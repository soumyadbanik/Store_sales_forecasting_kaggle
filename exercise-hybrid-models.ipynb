{
 "cells": [
  {
   "cell_type": "markdown",
   "id": "headed-opera",
   "metadata": {},
   "source": [
    "**This notebook is an exercise in the [Time Series](https://www.kaggle.com/learn/time-series) course.  You can reference the tutorial at [this link](https://www.kaggle.com/ryanholbrook/hybrid-models).**\n",
    "\n",
    "---\n"
   ]
  },
  {
   "cell_type": "markdown",
   "id": "rapid-teacher",
   "metadata": {},
   "source": [
    "# Introduction #\n",
    "\n",
    "Run this cell to set everything up!"
   ]
  },
  {
   "cell_type": "code",
   "execution_count": 1,
   "id": "neural-effects",
   "metadata": {
    "execution": {
     "iopub.execute_input": "2022-08-28T13:48:05.831156Z",
     "iopub.status.busy": "2022-08-28T13:48:05.829827Z",
     "iopub.status.idle": "2022-08-28T13:48:13.673232Z",
     "shell.execute_reply": "2022-08-28T13:48:13.671952Z",
     "shell.execute_reply.started": "2022-08-28T13:48:05.831045Z"
    }
   },
   "outputs": [],
   "source": [
    "# Setup feedback system\n",
    "from learntools.core import binder\n",
    "binder.bind(globals())\n",
    "from learntools.time_series.ex5 import *\n",
    "\n",
    "# Setup notebook\n",
    "from pathlib import Path\n",
    "from learntools.time_series.style import *  # plot style settings\n",
    "\n",
    "import matplotlib.pyplot as plt\n",
    "import pandas as pd\n",
    "from sklearn.linear_model import LinearRegression\n",
    "from sklearn.preprocessing import LabelEncoder\n",
    "from statsmodels.tsa.deterministic import DeterministicProcess\n",
    "from xgboost import XGBRegressor\n",
    "\n",
    "\n",
    "comp_dir = Path('../input/store-sales-time-series-forecasting')\n",
    "data_dir = Path(\"../input/ts-course-data\")\n",
    "\n",
    "store_sales = pd.read_csv(\n",
    "    comp_dir / 'train.csv',\n",
    "    usecols=['store_nbr', 'family', 'date', 'sales', 'onpromotion'],\n",
    "    dtype={\n",
    "        'store_nbr': 'category',\n",
    "        'family': 'category',\n",
    "        'sales': 'float32',\n",
    "    },\n",
    "    parse_dates=['date'],\n",
    "    infer_datetime_format=True,\n",
    ")\n",
    "store_sales['date'] = store_sales.date.dt.to_period('D')\n",
    "store_sales = store_sales.set_index(['store_nbr', 'family', 'date']).sort_index()\n",
    "\n",
    "family_sales = (\n",
    "    store_sales\n",
    "    .groupby(['family', 'date'])\n",
    "    .mean()\n",
    "    .unstack('family')\n",
    "    .loc['2017']\n",
    ")"
   ]
  },
  {
   "cell_type": "markdown",
   "id": "resistant-beaver",
   "metadata": {},
   "source": [
    "-------------------------------------------------------------------------------\n",
    "\n",
    "In the next two questions, you'll create a boosted hybrid for the *Store Sales* dataset by implementing a new Python class. Run this cell to create the initial class definition. You'll add `fit` and `predict` methods to give it a scikit-learn like interface.\n"
   ]
  },
  {
   "cell_type": "code",
   "execution_count": 2,
   "id": "nominated-charger",
   "metadata": {
    "execution": {
     "iopub.execute_input": "2022-08-28T13:52:43.975066Z",
     "iopub.status.busy": "2022-08-28T13:52:43.974636Z",
     "iopub.status.idle": "2022-08-28T13:52:43.981300Z",
     "shell.execute_reply": "2022-08-28T13:52:43.980009Z",
     "shell.execute_reply.started": "2022-08-28T13:52:43.975030Z"
    }
   },
   "outputs": [],
   "source": [
    "# You'll add fit and predict methods to this minimal class\n",
    "class BoostedHybrid:\n",
    "    def __init__(self, model_1, model_2):\n",
    "        self.model_1 = model_1\n",
    "        self.model_2 = model_2\n",
    "        self.y_columns = None  # store column names from fit method\n"
   ]
  },
  {
   "cell_type": "markdown",
   "id": "searching-guidance",
   "metadata": {},
   "source": [
    "# 1) Define fit method for boosted hybrid\n",
    "\n",
    "Complete the `fit` definition for the `BoostedHybrid` class. Refer back to steps 1 and 2 from the **Hybrid Forecasting with Residuals** section in the tutorial if you need."
   ]
  },
  {
   "cell_type": "code",
   "execution_count": 7,
   "id": "still-reasoning",
   "metadata": {
    "execution": {
     "iopub.execute_input": "2022-08-28T14:03:55.229635Z",
     "iopub.status.busy": "2022-08-28T14:03:55.229050Z",
     "iopub.status.idle": "2022-08-28T14:03:55.262856Z",
     "shell.execute_reply": "2022-08-28T14:03:55.261921Z",
     "shell.execute_reply.started": "2022-08-28T14:03:55.229596Z"
    }
   },
   "outputs": [],
   "source": [
    "def fit(self, X_1, X_2, y):\n",
    "    # YOUR CODE HERE: fit self.model_1\n",
    "    self.model_1.fit(X_1, y)\n",
    "\n",
    "    y_fit = pd.DataFrame(\n",
    "        self.model_1.predict(X_1),\n",
    "        index=X_1.index, columns=y.columns,\n",
    "    )\n",
    "\n",
    "    # YOUR CODE HERE: compute residuals\n",
    "    y_resid = y - y_fit\n",
    "    y_resid = y_resid.stack().squeeze() # wide to long\n",
    "\n",
    "    # YOUR CODE HERE: fit self.model_2 on residuals\n",
    "    self.model_2.fit(X_2, y_resid)\n",
    "\n",
    "    # Save column names for predict method\n",
    "    self.y_columns = y.columns\n",
    "    # Save data for question checking\n",
    "    self.y_fit = y_fit\n",
    "    self.y_resid = y_resid\n",
    "\n",
    "\n",
    "# Add method to class\n",
    "BoostedHybrid.fit = fit\n",
    "\n",
    "\n",
    "# Check your answer\n",
    "q_1.check()"
   ]
  },
  {
   "cell_type": "code",
   "execution_count": 8,
   "id": "indirect-respect",
   "metadata": {
    "execution": {
     "iopub.execute_input": "2022-08-28T14:06:08.861465Z",
     "iopub.status.busy": "2022-08-28T14:06:08.860253Z",
     "iopub.status.idle": "2022-08-28T14:06:08.873217Z",
     "shell.execute_reply": "2022-08-28T14:06:08.871877Z",
     "shell.execute_reply.started": "2022-08-28T14:06:08.861380Z"
    }
   },
   "outputs": [],
   "source": [
    "# Lines below will give you a hint or solution code\n",
    "#q_1.hint()\n",
    "q_1.solution()"
   ]
  },
  {
   "cell_type": "markdown",
   "id": "polish-liberal",
   "metadata": {},
   "source": [
    "-------------------------------------------------------------------------------\n",
    "\n",
    "# 2) Define predict method for boosted hybrid\n",
    "\n",
    "Now define the `predict` method for the `BoostedHybrid` class. Refer back to step 3 from the **Hybrid Forecasting with Residuals** section in the tutorial if you need."
   ]
  },
  {
   "cell_type": "code",
   "execution_count": 10,
   "id": "improved-marijuana",
   "metadata": {
    "execution": {
     "iopub.execute_input": "2022-08-28T14:10:36.870649Z",
     "iopub.status.busy": "2022-08-28T14:10:36.870179Z",
     "iopub.status.idle": "2022-08-28T14:10:36.914497Z",
     "shell.execute_reply": "2022-08-28T14:10:36.912797Z",
     "shell.execute_reply.started": "2022-08-28T14:10:36.870612Z"
    }
   },
   "outputs": [],
   "source": [
    "def predict(self, X_1, X_2):\n",
    "    y_pred = pd.DataFrame(\n",
    "        # YOUR CODE HERE: predict with self.model_1\n",
    "        self.model_1.predict(X_1),\n",
    "        index=X_1.index, columns=self.y_columns,\n",
    "    )\n",
    "    y_pred = y_pred.stack().squeeze()  # wide to long\n",
    "\n",
    "    # YOUR CODE HERE: add self.model_2 predictions to y_pred\n",
    "    y_pred += self.model_2.predict(X_2)\n",
    "    \n",
    "    return y_pred.unstack()  # long to wide\n",
    "\n",
    "\n",
    "# Add method to class\n",
    "BoostedHybrid.predict = predict\n",
    "\n",
    "\n",
    "# Check your answer\n",
    "q_2.check()"
   ]
  },
  {
   "cell_type": "code",
   "execution_count": null,
   "id": "indonesian-nowhere",
   "metadata": {},
   "outputs": [],
   "source": [
    "# Lines below will give you a hint or solution code\n",
    "#q_2.hint()\n",
    "#q_2.solution()"
   ]
  },
  {
   "cell_type": "markdown",
   "id": "obvious-drink",
   "metadata": {},
   "source": [
    "-------------------------------------------------------------------------------\n",
    "\n",
    "Now you're ready to use your new `BoostedHybrid` class to create a model for the *Store Sales* data. Run the next cell to set up the data for training."
   ]
  },
  {
   "cell_type": "code",
   "execution_count": 12,
   "id": "wrapped-adobe",
   "metadata": {
    "execution": {
     "iopub.execute_input": "2022-08-28T14:11:57.627133Z",
     "iopub.status.busy": "2022-08-28T14:11:57.626706Z",
     "iopub.status.idle": "2022-08-28T14:11:57.656285Z",
     "shell.execute_reply": "2022-08-28T14:11:57.655334Z",
     "shell.execute_reply.started": "2022-08-28T14:11:57.627099Z"
    }
   },
   "outputs": [],
   "source": [
    "# Target series\n",
    "y = family_sales.loc[:, 'sales']\n",
    "\n",
    "\n",
    "# X_1: Features for Linear Regression\n",
    "dp = DeterministicProcess(index=y.index, order=1)\n",
    "X_1 = dp.in_sample()\n",
    "\n",
    "\n",
    "# X_2: Features for XGBoost\n",
    "X_2 = family_sales.drop('sales', axis=1).stack()  # onpromotion feature\n",
    "\n",
    "# Label encoding for 'family'\n",
    "le = LabelEncoder()  # from sklearn.preprocessing\n",
    "X_2 = X_2.reset_index('family')\n",
    "X_2['family'] = le.fit_transform(X_2['family'])\n",
    "\n",
    "# Label encoding for seasonality\n",
    "X_2[\"day\"] = X_2.index.day  # values are day of the month"
   ]
  },
  {
   "cell_type": "code",
   "execution_count": 18,
   "id": "hearing-capitol",
   "metadata": {
    "execution": {
     "iopub.execute_input": "2022-08-28T14:19:11.143012Z",
     "iopub.status.busy": "2022-08-28T14:19:11.142632Z",
     "iopub.status.idle": "2022-08-28T14:19:11.158920Z",
     "shell.execute_reply": "2022-08-28T14:19:11.156960Z",
     "shell.execute_reply.started": "2022-08-28T14:19:11.142980Z"
    }
   },
   "outputs": [],
   "source": [
    "X_2.tail()\n",
    "#X_1.head()"
   ]
  },
  {
   "cell_type": "markdown",
   "id": "disturbed-devil",
   "metadata": {},
   "source": [
    "# 3) Train boosted hybrid\n",
    "\n",
    "Create the hybrid model by initializing a `BoostedHybrid` class with `LinearRegression()` and `XGBRegressor()` instances."
   ]
  },
  {
   "cell_type": "code",
   "execution_count": 19,
   "id": "meaningful-commissioner",
   "metadata": {
    "execution": {
     "iopub.execute_input": "2022-08-28T14:23:59.037515Z",
     "iopub.status.busy": "2022-08-28T14:23:59.037072Z",
     "iopub.status.idle": "2022-08-28T14:23:59.572140Z",
     "shell.execute_reply": "2022-08-28T14:23:59.571206Z",
     "shell.execute_reply.started": "2022-08-28T14:23:59.037480Z"
    }
   },
   "outputs": [],
   "source": [
    "# YOUR CODE HERE: Create LinearRegression + XGBRegressor hybrid with BoostedHybrid\n",
    "model = BoostedHybrid(LinearRegression(), XGBRegressor())\n",
    "\n",
    "# YOUR CODE HERE: Fit and predict\n",
    "model.fit(X_1, X_2, y)\n",
    "y_pred = model.predict(X_1, X_2)\n",
    "\n",
    "y_pred = y_pred.clip(0.0)\n",
    "\n",
    "\n",
    "# Check your answer\n",
    "q_3.check()"
   ]
  },
  {
   "cell_type": "code",
   "execution_count": null,
   "id": "effective-violin",
   "metadata": {},
   "outputs": [],
   "source": [
    "# Lines below will give you a hint or solution code\n",
    "#q_3.hint()\n",
    "#q_3.solution()"
   ]
  },
  {
   "cell_type": "markdown",
   "id": "brazilian-escape",
   "metadata": {},
   "source": [
    "-------------------------------------------------------------------------------\n",
    "\n",
    "Depending on your problem, you might want to use other hybrid combinations than the linear regression + XGBoost hybrid you've created in the previous questions. Run the next cell to try other algorithms from scikit-learn."
   ]
  },
  {
   "cell_type": "code",
   "execution_count": 20,
   "id": "duplicate-adjustment",
   "metadata": {
    "execution": {
     "iopub.execute_input": "2022-08-28T14:24:04.976512Z",
     "iopub.status.busy": "2022-08-28T14:24:04.976057Z",
     "iopub.status.idle": "2022-08-28T14:24:05.128416Z",
     "shell.execute_reply": "2022-08-28T14:24:05.127282Z",
     "shell.execute_reply.started": "2022-08-28T14:24:04.976475Z"
    }
   },
   "outputs": [],
   "source": [
    "# Model 1 (trend)\n",
    "from pyearth import Earth\n",
    "from sklearn.linear_model import ElasticNet, Lasso, Ridge\n",
    "\n",
    "# Model 2\n",
    "from sklearn.ensemble import ExtraTreesRegressor, RandomForestRegressor\n",
    "from sklearn.neighbors import KNeighborsRegressor\n",
    "from sklearn.neural_network import MLPRegressor\n",
    "\n",
    "# Boosted Hybrid\n",
    "\n",
    "# YOUR CODE HERE: Try different combinations of the algorithms above\n",
    "model = BoostedHybrid(\n",
    "    model_1=Ridge(),\n",
    "    model_2=KNeighborsRegressor(),\n",
    ")"
   ]
  },
  {
   "cell_type": "markdown",
   "id": "secret-leave",
   "metadata": {},
   "source": [
    "These are just some suggestions. You might discover other algorithms you like in the scikit-learn [User Guide](https://scikit-learn.org/stable/supervised_learning.html).\n",
    "\n",
    "Use the code in this cell to see the predictions your hybrid makes."
   ]
  },
  {
   "cell_type": "code",
   "execution_count": 21,
   "id": "received-subject",
   "metadata": {
    "execution": {
     "iopub.execute_input": "2022-08-28T14:24:16.242136Z",
     "iopub.status.busy": "2022-08-28T14:24:16.241297Z",
     "iopub.status.idle": "2022-08-28T14:24:18.284722Z",
     "shell.execute_reply": "2022-08-28T14:24:18.283485Z",
     "shell.execute_reply.started": "2022-08-28T14:24:16.242096Z"
    }
   },
   "outputs": [],
   "source": [
    "y_train, y_valid = y[:\"2017-07-01\"], y[\"2017-07-02\":]\n",
    "X1_train, X1_valid = X_1[: \"2017-07-01\"], X_1[\"2017-07-02\" :]\n",
    "X2_train, X2_valid = X_2.loc[:\"2017-07-01\"], X_2.loc[\"2017-07-02\":]\n",
    "\n",
    "# Some of the algorithms above do best with certain kinds of\n",
    "# preprocessing on the features (like standardization), but this is\n",
    "# just a demo.\n",
    "model.fit(X1_train, X2_train, y_train)\n",
    "y_fit = model.predict(X1_train, X2_train).clip(0.0)\n",
    "y_pred = model.predict(X1_valid, X2_valid).clip(0.0)\n",
    "\n",
    "families = y.columns[0:6]\n",
    "axs = y.loc(axis=1)[families].plot(\n",
    "    subplots=True, sharex=True, figsize=(11, 9), **plot_params, alpha=0.5,\n",
    ")\n",
    "_ = y_fit.loc(axis=1)[families].plot(subplots=True, sharex=True, color='C0', ax=axs)\n",
    "_ = y_pred.loc(axis=1)[families].plot(subplots=True, sharex=True, color='C3', ax=axs)\n",
    "for ax, family in zip(axs, families):\n",
    "    ax.legend([])\n",
    "    ax.set_ylabel(family)"
   ]
  },
  {
   "cell_type": "markdown",
   "id": "continued-drunk",
   "metadata": {},
   "source": [
    "# 4) Fit with different learning algorithms\n",
    "\n",
    "Once you're ready to move on, run the next cell for credit on this question."
   ]
  },
  {
   "cell_type": "code",
   "execution_count": 22,
   "id": "tribal-coordination",
   "metadata": {
    "execution": {
     "iopub.execute_input": "2022-08-28T14:24:30.965169Z",
     "iopub.status.busy": "2022-08-28T14:24:30.963996Z",
     "iopub.status.idle": "2022-08-28T14:24:30.974293Z",
     "shell.execute_reply": "2022-08-28T14:24:30.973268Z",
     "shell.execute_reply.started": "2022-08-28T14:24:30.965127Z"
    },
    "lines_to_next_cell": 2
   },
   "outputs": [],
   "source": [
    "# View the solution (Run this cell to receive credit!)\n",
    "q_4.check()"
   ]
  },
  {
   "cell_type": "markdown",
   "id": "solved-namibia",
   "metadata": {},
   "source": [
    "# Keep Going #\n",
    "\n",
    "[**Convert any forecasting task**](https://www.kaggle.com/ryanholbrook/forecasting-with-machine-learning) to a machine learning problem with four ML forecasting strategies."
   ]
  },
  {
   "cell_type": "markdown",
   "id": "handy-statement",
   "metadata": {},
   "source": [
    "---\n",
    "\n",
    "\n",
    "\n",
    "\n",
    "*Have questions or comments? Visit the [course discussion forum](https://www.kaggle.com/learn/time-series/discussion) to chat with other learners.*"
   ]
  }
 ],
 "metadata": {
  "jupytext": {
   "cell_metadata_filter": "-all",
   "formats": "ipynb,md"
  },
  "kernelspec": {
   "display_name": "Python 3",
   "language": "python",
   "name": "python3"
  },
  "language_info": {
   "codemirror_mode": {
    "name": "ipython",
    "version": 3
   },
   "file_extension": ".py",
   "mimetype": "text/x-python",
   "name": "python",
   "nbconvert_exporter": "python",
   "pygments_lexer": "ipython3",
   "version": "3.8.10"
  }
 },
 "nbformat": 4,
 "nbformat_minor": 5
}
