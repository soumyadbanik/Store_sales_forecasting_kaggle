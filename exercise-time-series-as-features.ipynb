{
 "cells": [
  {
   "cell_type": "markdown",
   "metadata": {},
   "source": [
    "**This notebook is an exercise in the [Time Series](https://www.kaggle.com/learn/time-series) course.  You can reference the tutorial at [this link](https://www.kaggle.com/ryanholbrook/time-series-as-features).**\n",
    "\n",
    "---\n"
   ]
  },
  {
   "cell_type": "markdown",
   "metadata": {},
   "source": [
    "# Introduction #\n",
    "\n",
    "Run this cell to set everything up!"
   ]
  },
  {
   "cell_type": "code",
   "execution_count": 1,
   "metadata": {
    "execution": {
     "iopub.execute_input": "2022-08-28T11:32:14.746130Z",
     "iopub.status.busy": "2022-08-28T11:32:14.745697Z",
     "iopub.status.idle": "2022-08-28T11:32:26.087982Z",
     "shell.execute_reply": "2022-08-28T11:32:26.087018Z",
     "shell.execute_reply.started": "2022-08-28T11:32:14.746009Z"
    }
   },
   "outputs": [],
   "source": [
    "# Setup feedback system\n",
    "from learntools.core import binder\n",
    "binder.bind(globals())\n",
    "from learntools.time_series.ex4 import *\n",
    "\n",
    "# Setup notebook\n",
    "from pathlib import Path\n",
    "from learntools.time_series.style import *  # plot style settings\n",
    "from learntools.time_series.utils import plot_lags, make_lags, make_leads\n",
    "\n",
    "import pandas as pd\n",
    "import matplotlib.pyplot as plt\n",
    "import numpy as np\n",
    "import seaborn as sns\n",
    "from sklearn.linear_model import LinearRegression\n",
    "from sklearn.metrics import mean_squared_log_error\n",
    "from statsmodels.graphics.tsaplots import plot_pacf\n",
    "from statsmodels.tsa.deterministic import CalendarFourier, DeterministicProcess\n",
    "\n",
    "\n",
    "comp_dir = Path('../input/store-sales-time-series-forecasting')\n",
    "\n",
    "store_sales = pd.read_csv(\n",
    "    comp_dir / 'train.csv',\n",
    "    usecols=['store_nbr', 'family', 'date', 'sales', 'onpromotion'],\n",
    "    dtype={\n",
    "        'store_nbr': 'category',\n",
    "        'family': 'category',\n",
    "        'sales': 'float32',\n",
    "        'onpromotion': 'uint32',\n",
    "    },\n",
    "    parse_dates=['date'],\n",
    "    infer_datetime_format=True,\n",
    ")\n",
    "store_sales['date'] = store_sales.date.dt.to_period('D')\n",
    "store_sales = store_sales.set_index(['store_nbr', 'family', 'date']).sort_index()\n",
    "\n",
    "family_sales = (\n",
    "    store_sales\n",
    "    .groupby(['family', 'date'])\n",
    "    .mean() \n",
    "    .unstack('family')\n",
    "    .loc['2017', ['sales', 'onpromotion']]\n",
    ")"
   ]
  },
  {
   "cell_type": "code",
   "execution_count": 2,
   "metadata": {
    "execution": {
     "iopub.execute_input": "2022-08-28T11:32:26.089749Z",
     "iopub.status.busy": "2022-08-28T11:32:26.089484Z",
     "iopub.status.idle": "2022-08-28T11:32:26.245434Z",
     "shell.execute_reply": "2022-08-28T11:32:26.244040Z",
     "shell.execute_reply.started": "2022-08-28T11:32:26.089726Z"
    }
   },
   "outputs": [],
   "source": [
    "store_sales.describe()"
   ]
  },
  {
   "cell_type": "code",
   "execution_count": 3,
   "metadata": {
    "execution": {
     "iopub.execute_input": "2022-08-28T11:32:26.248104Z",
     "iopub.status.busy": "2022-08-28T11:32:26.247027Z",
     "iopub.status.idle": "2022-08-28T11:32:26.252612Z",
     "shell.execute_reply": "2022-08-28T11:32:26.252081Z",
     "shell.execute_reply.started": "2022-08-28T11:32:26.248069Z"
    }
   },
   "outputs": [],
   "source": [
    "family_sales.columns\n",
    "family_sales.shape"
   ]
  },
  {
   "cell_type": "code",
   "execution_count": 4,
   "metadata": {
    "execution": {
     "iopub.execute_input": "2022-08-28T11:32:26.255121Z",
     "iopub.status.busy": "2022-08-28T11:32:26.254321Z",
     "iopub.status.idle": "2022-08-28T11:32:26.428810Z",
     "shell.execute_reply": "2022-08-28T11:32:26.427712Z",
     "shell.execute_reply.started": "2022-08-28T11:32:26.255097Z"
    }
   },
   "outputs": [],
   "source": [
    "family_sales.describe()"
   ]
  },
  {
   "cell_type": "code",
   "execution_count": null,
   "metadata": {},
   "outputs": [],
   "source": []
  },
  {
   "cell_type": "code",
   "execution_count": 5,
   "metadata": {
    "execution": {
     "iopub.execute_input": "2022-08-28T11:32:26.430174Z",
     "iopub.status.busy": "2022-08-28T11:32:26.429908Z",
     "iopub.status.idle": "2022-08-28T11:32:26.894683Z",
     "shell.execute_reply": "2022-08-28T11:32:26.893654Z",
     "shell.execute_reply.started": "2022-08-28T11:32:26.430151Z"
    }
   },
   "outputs": [],
   "source": [
    "family_sales.loc(axis=1)['sales',['BEAUTY', 'DAIRY', 'BEVERAGES', 'CLEANING', 'BABY CARE', 'BOOKS', 'SCHOOL AND OFFICE SUPPLIES']].plot(figsize=(11,5.5), alpha=0.8)"
   ]
  },
  {
   "cell_type": "markdown",
   "metadata": {},
   "source": [
    "----------------------------------------------------------------------------\n",
    "\n",
    "Not every product family has sales showing cyclic behavior, and neither does the series of average sales. Sales of school and office supplies, however, show patterns of growth and decay not well characterized by trend or seasons. In this question and the next, you'll model cycles in sales of school and office supplies using lag features.\n",
    "\n",
    "Trend and seasonality will both create serial dependence that shows up in correlograms and lag plots. To isolate any purely *cyclic* behavior, we'll start by deseasonalizing the series. Use the code in the next cell to deseasonalize *Supply Sales*. We'll store the result in a variable `y_deseason`."
   ]
  },
  {
   "cell_type": "code",
   "execution_count": 6,
   "metadata": {
    "execution": {
     "iopub.execute_input": "2022-08-28T11:32:26.896271Z",
     "iopub.status.busy": "2022-08-28T11:32:26.896051Z",
     "iopub.status.idle": "2022-08-28T11:32:27.207365Z",
     "shell.execute_reply": "2022-08-28T11:32:27.206441Z",
     "shell.execute_reply.started": "2022-08-28T11:32:26.896249Z"
    }
   },
   "outputs": [],
   "source": [
    "supply_sales = family_sales.loc(axis=1)[:, 'SCHOOL AND OFFICE SUPPLIES']\n",
    "y = supply_sales.loc[:, 'sales'].squeeze()\n",
    "\n",
    "fourier = CalendarFourier(freq='M', order=4)\n",
    "dp = DeterministicProcess(\n",
    "    constant=True,\n",
    "    index=y.index,\n",
    "    order=1,\n",
    "    seasonal=True,\n",
    "    drop=True,\n",
    "    additional_terms=[fourier],\n",
    ")\n",
    "X_time = dp.in_sample()\n",
    "X_time['NewYearsDay'] = (X_time.index.dayofyear == 1)\n",
    "\n",
    "model = LinearRegression(fit_intercept=False)\n",
    "model.fit(X_time, y)\n",
    "y_deseason = y - model.predict(X_time)\n",
    "y_deseason.name = 'sales_deseasoned'\n",
    "\n",
    "ax = y_deseason.plot()\n",
    "ax.set_title(\"Sales of School and Office Supplies (deseasonalized)\");"
   ]
  },
  {
   "cell_type": "markdown",
   "metadata": {},
   "source": [
    "Does this deseasonalized series show cyclic patterns? To confirm our intuition, we can try to isolate cyclic behavior using a moving-average plot just like we did with trend. The idea is to choose a window long enough to smooth over short-term seasonality, but short enough to still preserve the cycles.\n",
    "\n",
    "# 1) Plotting cycles\n",
    "\n",
    "Create a seven-day moving average from `y`, the series of supply sales. Use a centered window, but don't set the `min_periods` argument."
   ]
  },
  {
   "cell_type": "code",
   "execution_count": 7,
   "metadata": {
    "execution": {
     "iopub.execute_input": "2022-08-28T11:32:27.208537Z",
     "iopub.status.busy": "2022-08-28T11:32:27.208328Z",
     "iopub.status.idle": "2022-08-28T11:32:27.517920Z",
     "shell.execute_reply": "2022-08-28T11:32:27.516984Z",
     "shell.execute_reply.started": "2022-08-28T11:32:27.208515Z"
    }
   },
   "outputs": [],
   "source": [
    "# YOUR CODE HERE\n",
    "y_ma = y.rolling(\n",
    "    window=7,\n",
    "    center=True,\n",
    "    ).mean()\n",
    "\n",
    "\n",
    "# Plot\n",
    "ax = y_ma.plot()\n",
    "ax.set_title(\"Seven-Day Moving Average\");\n",
    "\n",
    "# Check your answer\n",
    "q_1.check()"
   ]
  },
  {
   "cell_type": "code",
   "execution_count": 8,
   "metadata": {
    "execution": {
     "iopub.execute_input": "2022-08-28T11:32:27.519561Z",
     "iopub.status.busy": "2022-08-28T11:32:27.519226Z",
     "iopub.status.idle": "2022-08-28T11:32:27.525384Z",
     "shell.execute_reply": "2022-08-28T11:32:27.523878Z",
     "shell.execute_reply.started": "2022-08-28T11:32:27.519528Z"
    }
   },
   "outputs": [],
   "source": [
    "# Lines below will give you a hint or solution code\n",
    "#q_1.hint()\n",
    "#q_1.solution()"
   ]
  },
  {
   "cell_type": "markdown",
   "metadata": {},
   "source": [
    "Do you see how the moving average plot resembles the plot of the deseasonalized series? In both, we can see cyclic behavior indicated.\n",
    "\n",
    "-------------------------------------------------------------------------------\n",
    "\n",
    "Let's examine our deseasonalized series for serial dependence. Take a look at the partial autocorrelation correlogram and lag plot."
   ]
  },
  {
   "cell_type": "code",
   "execution_count": 9,
   "metadata": {
    "execution": {
     "iopub.execute_input": "2022-08-28T11:32:27.528754Z",
     "iopub.status.busy": "2022-08-28T11:32:27.527604Z",
     "iopub.status.idle": "2022-08-28T11:32:28.802717Z",
     "shell.execute_reply": "2022-08-28T11:32:28.801753Z",
     "shell.execute_reply.started": "2022-08-28T11:32:27.528726Z"
    }
   },
   "outputs": [],
   "source": [
    "plot_pacf(y_deseason, lags=8);\n",
    "plot_lags(y_deseason, lags=8, nrows=2);"
   ]
  },
  {
   "cell_type": "markdown",
   "metadata": {},
   "source": [
    "# 2) Examine serial dependence in *Store Sales*\n",
    "\n",
    "Are any of the lags significant according to the correlogram? Does the lag plot suggest any relationships that weren't apparent from the correlogram?\n",
    "\n",
    "After you've thought about your answer, run the next cell."
   ]
  },
  {
   "cell_type": "code",
   "execution_count": 10,
   "metadata": {
    "execution": {
     "iopub.execute_input": "2022-08-28T11:32:28.805922Z",
     "iopub.status.busy": "2022-08-28T11:32:28.805666Z",
     "iopub.status.idle": "2022-08-28T11:32:28.813357Z",
     "shell.execute_reply": "2022-08-28T11:32:28.812254Z",
     "shell.execute_reply.started": "2022-08-28T11:32:28.805898Z"
    }
   },
   "outputs": [],
   "source": [
    "# View the solution (Run this cell to receive credit!)\n",
    "q_2.check()"
   ]
  },
  {
   "cell_type": "markdown",
   "metadata": {},
   "source": [
    "-------------------------------------------------------------------------------\n",
    "\n",
    "Recall from the tutorial that a *leading indicator* is a series whose values at one time can be used to predict the target at a future time -- a leading indicator provides \"advance notice\" of changes in the target.\n",
    "\n",
    "The competition dataset includes a time series that could potentially be useful as a leading indicator -- the `onpromotion` series, which contains the number of items on a special promotion that day. Since the company itself decides when to do a promotion, there's no worry about \"lookahead leakage\"; we could use Tuesday's `onpromotion` value to forecast sales on Monday, for instance.\n",
    "\n",
    "Use the next cell to examine leading and lagging values for `onpromotion` plotted against sales of school and office supplies."
   ]
  },
  {
   "cell_type": "code",
   "execution_count": 11,
   "metadata": {
    "execution": {
     "iopub.execute_input": "2022-08-28T11:32:28.815011Z",
     "iopub.status.busy": "2022-08-28T11:32:28.814738Z",
     "iopub.status.idle": "2022-08-28T11:32:29.753048Z",
     "shell.execute_reply": "2022-08-28T11:32:29.751728Z",
     "shell.execute_reply.started": "2022-08-28T11:32:28.814981Z"
    }
   },
   "outputs": [],
   "source": [
    "onpromotion = supply_sales.loc[:, 'onpromotion'].squeeze().rename('onpromotion')\n",
    "\n",
    "# Drop days without promotions\n",
    "plot_lags(x=onpromotion.loc[onpromotion > 1], y=y_deseason.loc[onpromotion > 1], lags=3, leads=3, nrows=1);"
   ]
  },
  {
   "cell_type": "markdown",
   "metadata": {},
   "source": [
    "# 3) Examine time series features\n",
    "\n",
    "Does it appear that either leading or lagging values of `onpromotion` could be useful as a feature?"
   ]
  },
  {
   "cell_type": "code",
   "execution_count": 12,
   "metadata": {
    "execution": {
     "iopub.execute_input": "2022-08-28T11:32:29.754769Z",
     "iopub.status.busy": "2022-08-28T11:32:29.754497Z",
     "iopub.status.idle": "2022-08-28T11:32:29.762347Z",
     "shell.execute_reply": "2022-08-28T11:32:29.761409Z",
     "shell.execute_reply.started": "2022-08-28T11:32:29.754745Z"
    }
   },
   "outputs": [],
   "source": [
    "q_3.check()"
   ]
  },
  {
   "cell_type": "markdown",
   "metadata": {},
   "source": [
    "-------------------------------------------------------------------------------\n",
    "\n",
    "# 4) Create time series features\n",
    "\n",
    "Create the features indicated in the solution to Question 3. If no features from that series would be useful, use an empty dataframe `pd.DataFrame()` as your answer."
   ]
  },
  {
   "cell_type": "code",
   "execution_count": 22,
   "metadata": {
    "execution": {
     "iopub.execute_input": "2022-08-28T11:36:50.286198Z",
     "iopub.status.busy": "2022-08-28T11:36:50.285865Z",
     "iopub.status.idle": "2022-08-28T11:36:50.303006Z",
     "shell.execute_reply": "2022-08-28T11:36:50.302084Z",
     "shell.execute_reply.started": "2022-08-28T11:36:50.286173Z"
    }
   },
   "outputs": [],
   "source": [
    "# YOUR CODE HERE: Make features from `y_deseason`\n",
    "X_lags = make_lags(y_deseason, lags=1,)\n",
    "\n",
    "# YOUR CODE HERE: Make features from `onpromotion`\n",
    "# You may want to use `pd.concat`\n",
    "X_promo = pd.concat([\n",
    "    make_lags(onpromotion, lags=1,),\n",
    "    onpromotion,\n",
    "    make_leads(onpromotion, leads=1,),\n",
    "],axis=1)\n",
    "\n",
    "X = pd.concat([X_lags, X_promo], axis=1).dropna()\n",
    "y, X = y.align(X, join='inner')\n",
    "\n",
    "# Check your answer\n",
    "q_4.check()"
   ]
  },
  {
   "cell_type": "code",
   "execution_count": 24,
   "metadata": {
    "execution": {
     "iopub.execute_input": "2022-08-28T11:37:12.447725Z",
     "iopub.status.busy": "2022-08-28T11:37:12.447395Z",
     "iopub.status.idle": "2022-08-28T11:37:12.460694Z",
     "shell.execute_reply": "2022-08-28T11:37:12.459585Z",
     "shell.execute_reply.started": "2022-08-28T11:37:12.447693Z"
    }
   },
   "outputs": [],
   "source": [
    "X.tail()\n",
    "#y.head()"
   ]
  },
  {
   "cell_type": "code",
   "execution_count": null,
   "metadata": {
    "execution": {
     "iopub.status.busy": "2022-08-28T11:32:29.774788Z",
     "iopub.status.idle": "2022-08-28T11:32:29.775132Z",
     "shell.execute_reply": "2022-08-28T11:32:29.774998Z",
     "shell.execute_reply.started": "2022-08-28T11:32:29.774983Z"
    }
   },
   "outputs": [],
   "source": [
    "# Lines below will give you a hint or solution code\n",
    "q_4.hint()\n",
    "q_4.solution()"
   ]
  },
  {
   "cell_type": "markdown",
   "metadata": {},
   "source": [
    "Use the code in the next cell if you'd like to see predictions from the resulting model."
   ]
  },
  {
   "cell_type": "code",
   "execution_count": 15,
   "metadata": {
    "execution": {
     "iopub.execute_input": "2022-08-28T11:32:53.029379Z",
     "iopub.status.busy": "2022-08-28T11:32:53.029029Z",
     "iopub.status.idle": "2022-08-28T11:32:53.381817Z",
     "shell.execute_reply": "2022-08-28T11:32:53.379936Z",
     "shell.execute_reply.started": "2022-08-28T11:32:53.029354Z"
    }
   },
   "outputs": [],
   "source": [
    "from sklearn.model_selection import train_test_split\n",
    "\n",
    "X_train, X_valid, y_train, y_valid = train_test_split(X, y, test_size=30, shuffle=False)\n",
    "\n",
    "model = LinearRegression(fit_intercept=False).fit(X_train, y_train)\n",
    "y_fit = pd.Series(model.predict(X_train), index=X_train.index).clip(0.0)\n",
    "y_pred = pd.Series(model.predict(X_valid), index=X_valid.index).clip(0.0)\n",
    "\n",
    "rmsle_train = mean_squared_log_error(y_train, y_fit) ** 0.5\n",
    "rmsle_valid = mean_squared_log_error(y_valid, y_pred) ** 0.5\n",
    "print(f'Training RMSLE: {rmsle_train:.5f}')\n",
    "print(f'Validation RMSLE: {rmsle_valid:.5f}')\n",
    "\n",
    "ax = y.plot(**plot_params, alpha=0.5, title=\"Average Sales\", ylabel=\"items sold\")\n",
    "ax = y_fit.plot(ax=ax, label=\"Fitted\", color='C0')\n",
    "ax = y_pred.plot(ax=ax, label=\"Forecast\", color='C3')\n",
    "ax.legend();"
   ]
  },
  {
   "cell_type": "markdown",
   "metadata": {},
   "source": [
    "-------------------------------------------------------------------------------\n",
    "\n",
    "Winners of Kaggle forecasting competitions have often included moving averages and other rolling statistics in their feature sets. Such features seem to be especially useful when used with GBDT algorithms like XGBoost.\n",
    "\n",
    "In Lesson 2 you learned how to compute moving averages to estimate trends. Computing rolling statistics to be used as features is similar except we need to take care to avoid lookahead leakage. First, the result should be set at the right end of the window instead of the center -- that is, we should use `center=False` (the default) in the `rolling` method. Second, the target should be lagged a step."
   ]
  },
  {
   "cell_type": "markdown",
   "metadata": {},
   "source": [
    "# 5) Create statistical features\n",
    "\n",
    "Edit the code in the next cell to create the following features:\n",
    "- 14-day rolling median (`median`) of lagged target\n",
    "- 7-day rolling standard deviation (`std`) of lagged target\n",
    "- 7-day sum (`sum`) of items \"on promotion\", with centered window"
   ]
  },
  {
   "cell_type": "code",
   "execution_count": 29,
   "metadata": {
    "execution": {
     "iopub.execute_input": "2022-08-28T11:44:18.165066Z",
     "iopub.status.busy": "2022-08-28T11:44:18.164733Z",
     "iopub.status.idle": "2022-08-28T11:44:18.182735Z",
     "shell.execute_reply": "2022-08-28T11:44:18.181494Z",
     "shell.execute_reply.started": "2022-08-28T11:44:18.165033Z"
    }
   },
   "outputs": [],
   "source": [
    "y_lag = supply_sales.loc[:, 'sales'].shift(1)\n",
    "onpromo = supply_sales.loc[:, 'onpromotion']\n",
    "\n",
    "# 28-day mean of lagged target\n",
    "mean_7 = y_lag.rolling(7).mean()\n",
    "# YOUR CODE HERE: 14-day median of lagged target\n",
    "median_14 = y_lag.rolling(window=14).median()\n",
    "# YOUR CODE HERE: 7-day rolling standard deviation of lagged target\n",
    "std_7 = y_lag.rolling(7).std()\n",
    "# YOUR CODE HERE: 7-day sum of promotions with centered window\n",
    "promo_7 = onpromo.rolling(7, center=True).sum()\n",
    "\n",
    "\n",
    "# Check your answer\n",
    "q_5.check()"
   ]
  },
  {
   "cell_type": "code",
   "execution_count": null,
   "metadata": {},
   "outputs": [],
   "source": [
    "# Lines below will give you a hint or solution code\n",
    "q_5.hint()\n",
    "#q_5.solution()"
   ]
  },
  {
   "cell_type": "markdown",
   "metadata": {},
   "source": [
    "Check out the Pandas [`Window` documentation](https://pandas.pydata.org/pandas-docs/stable/reference/window.html) for more statistics you can compute. Also try \"exponential weighted\" windows by using `ewm` in place of `rolling`; exponential decay is often a more realistic representation of how effects propagate over time."
   ]
  },
  {
   "cell_type": "markdown",
   "metadata": {},
   "source": [
    "# Keep Going #\n",
    "\n",
    "[**Create hybrid forecasters**](https://www.kaggle.com/ryanholbrook/hybrid-models) and combine the strengths of two machine learning algorithms."
   ]
  },
  {
   "cell_type": "markdown",
   "metadata": {},
   "source": [
    "---\n",
    "\n",
    "\n",
    "\n",
    "\n",
    "*Have questions or comments? Visit the [course discussion forum](https://www.kaggle.com/learn/time-series/discussion) to chat with other learners.*"
   ]
  }
 ],
 "metadata": {
  "kernelspec": {
   "display_name": "Python 3",
   "language": "python",
   "name": "python3"
  },
  "language_info": {
   "codemirror_mode": {
    "name": "ipython",
    "version": 3
   },
   "file_extension": ".py",
   "mimetype": "text/x-python",
   "name": "python",
   "nbconvert_exporter": "python",
   "pygments_lexer": "ipython3",
   "version": "3.8.10"
  }
 },
 "nbformat": 4,
 "nbformat_minor": 4
}
