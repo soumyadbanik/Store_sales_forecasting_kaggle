{
 "cells": [
  {
   "cell_type": "markdown",
   "id": "annual-somerset",
   "metadata": {},
   "source": [
    "**This notebook is an exercise in the [Time Series](https://www.kaggle.com/learn/time-series) course.  You can reference the tutorial at [this link](https://www.kaggle.com/ryanholbrook/trend).**\n",
    "\n",
    "---\n"
   ]
  },
  {
   "cell_type": "markdown",
   "id": "robust-suggestion",
   "metadata": {},
   "source": [
    "\n",
    "# Introduction #"
   ]
  },
  {
   "cell_type": "markdown",
   "id": "numerous-knight",
   "metadata": {},
   "source": [
    "Run this cell to set everything up!"
   ]
  },
  {
   "cell_type": "code",
   "execution_count": 1,
   "id": "human-sally",
   "metadata": {
    "execution": {
     "iopub.execute_input": "2022-08-27T16:21:37.081496Z",
     "iopub.status.busy": "2022-08-27T16:21:37.080910Z",
     "iopub.status.idle": "2022-08-27T16:21:45.862285Z",
     "shell.execute_reply": "2022-08-27T16:21:45.860942Z",
     "shell.execute_reply.started": "2022-08-27T16:21:37.081392Z"
    },
    "lines_to_next_cell": 0
   },
   "outputs": [],
   "source": [
    "\n",
    "# Setup notebook\n",
    "from pathlib import Path\n",
    "from learntools.time_series.style import *  # plot style settings\n",
    "\n",
    "import pandas as pd\n",
    "import matplotlib.pyplot as plt\n",
    "import numpy as np\n",
    "import seaborn as sns\n",
    "from sklearn.linear_model import LinearRegression\n",
    "\n",
    "data_dir = Path('../input/ts-course-data/')\n",
    "comp_dir = Path('../input/store-sales-time-series-forecasting')\n",
    "\n",
    "retail_sales = pd.read_csv(\n",
    "    data_dir / \"us-retail-sales.csv\",\n",
    "    parse_dates=['Month'],\n",
    "    index_col='Month',\n",
    ").to_period('D')\n",
    "food_sales = retail_sales.loc[:, 'FoodAndBeverage']\n",
    "auto_sales = retail_sales.loc[:, 'Automobiles']\n",
    "\n",
    "dtype = {\n",
    "    'store_nbr': 'category',\n",
    "    'family': 'category',\n",
    "    'sales': 'float32',\n",
    "    'onpromotion': 'uint64',\n",
    "}\n",
    "store_sales = pd.read_csv(\n",
    "    comp_dir / 'train.csv',\n",
    "    dtype=dtype,\n",
    "    parse_dates=['date'],\n",
    "    infer_datetime_format=True,\n",
    ")\n",
    "store_sales = store_sales.set_index('date').to_period('D')\n",
    "store_sales = store_sales.set_index(['store_nbr', 'family'], append=True)\n",
    "average_sales = store_sales.groupby('date').mean()['sales']"
   ]
  },
  {
   "cell_type": "markdown",
   "id": "religious-dutch",
   "metadata": {},
   "source": [
    "-------------------------------------------------------------------------------"
   ]
  },
  {
   "cell_type": "markdown",
   "id": "military-freeze",
   "metadata": {},
   "source": [
    "# 1) Determine trend with a moving average plot\n",
    "\n",
    "The *US Retail Sales* dataset contains monthly sales data for a number of retail industries in the United States. Run the next cell to see a plot of the *Food and Beverage* series."
   ]
  },
  {
   "cell_type": "code",
   "execution_count": 3,
   "id": "split-madison",
   "metadata": {
    "execution": {
     "iopub.execute_input": "2022-08-27T16:29:48.960547Z",
     "iopub.status.busy": "2022-08-27T16:29:48.960051Z",
     "iopub.status.idle": "2022-08-27T16:29:49.347652Z",
     "shell.execute_reply": "2022-08-27T16:29:49.346425Z",
     "shell.execute_reply.started": "2022-08-27T16:29:48.960511Z"
    }
   },
   "outputs": [],
   "source": [
    "ax = food_sales.plot(**plot_params, figsize=(15,5))\n",
    "ax.set(title=\"US Food and Beverage Sales\", ylabel=\"Millions of Dollars\");"
   ]
  },
  {
   "cell_type": "markdown",
   "id": "pretty-doctrine",
   "metadata": {},
   "source": [
    "Now make a moving average plot to estimate the trend for this series."
   ]
  },
  {
   "cell_type": "code",
   "execution_count": 4,
   "id": "clean-champagne",
   "metadata": {
    "execution": {
     "iopub.execute_input": "2022-08-27T16:33:13.745522Z",
     "iopub.status.busy": "2022-08-27T16:33:13.744524Z",
     "iopub.status.idle": "2022-08-27T16:33:14.179748Z",
     "shell.execute_reply": "2022-08-27T16:33:14.178556Z",
     "shell.execute_reply.started": "2022-08-27T16:33:13.745480Z"
    },
    "lines_to_next_cell": 0
   },
   "outputs": [],
   "source": [
    "# YOUR CODE HERE: Add methods to `food_sales` to compute a moving\n",
    "# average with appropriate parameters for trend estimation.\n",
    "trend = food_sales.rolling(\n",
    "    window=12,\n",
    "    center=True,\n",
    "    min_periods=6,\n",
    ").mean()\n",
    "\n",
    "# Check your answer\n",
    "q_1.check()\n",
    "\n",
    "# Make a plot\n",
    "ax = food_sales.plot(**plot_params, alpha=0.5)\n",
    "ax = trend.plot(ax=ax, linewidth=3, title='Food sales trend', legend=False)"
   ]
  },
  {
   "cell_type": "code",
   "execution_count": 6,
   "id": "cosmetic-tuning",
   "metadata": {
    "execution": {
     "iopub.execute_input": "2022-08-27T16:33:34.293645Z",
     "iopub.status.busy": "2022-08-27T16:33:34.293213Z",
     "iopub.status.idle": "2022-08-27T16:33:34.307663Z",
     "shell.execute_reply": "2022-08-27T16:33:34.306471Z",
     "shell.execute_reply.started": "2022-08-27T16:33:34.293612Z"
    },
    "lines_to_next_cell": 0
   },
   "outputs": [],
   "source": [
    "# Uncomment to get a hint or solution\n",
    "q_1.hint()\n",
    "q_1.solution()"
   ]
  },
  {
   "cell_type": "markdown",
   "id": "possible-consistency",
   "metadata": {},
   "source": [
    "-------------------------------------------------------------------------------\n",
    "\n",
    "# 2) Identify trend\n",
    "\n",
    "What order polynomial trend might be appropriate for the *Food and Beverage Sales* series? Can you think of a non-polynomial curve that might work even better?\n",
    "\n",
    "Once you've thought about it, run this cell for some discussion."
   ]
  },
  {
   "cell_type": "code",
   "execution_count": 7,
   "id": "ahead-demand",
   "metadata": {
    "execution": {
     "iopub.execute_input": "2022-08-27T16:34:14.040104Z",
     "iopub.status.busy": "2022-08-27T16:34:14.039678Z",
     "iopub.status.idle": "2022-08-27T16:34:14.050745Z",
     "shell.execute_reply": "2022-08-27T16:34:14.049224Z",
     "shell.execute_reply.started": "2022-08-27T16:34:14.040055Z"
    }
   },
   "outputs": [],
   "source": [
    "# View the solution (Run this cell to receive credit!)\n",
    "q_2.check()"
   ]
  },
  {
   "cell_type": "markdown",
   "id": "wooden-treatment",
   "metadata": {},
   "source": [
    "-------------------------------------------------------------------------------\n",
    "\n",
    "We'll continue using the time series of average sales in this lesson. Run this cell to see a moving average plot of `average_sales` estimating the trend."
   ]
  },
  {
   "cell_type": "code",
   "execution_count": 8,
   "id": "interesting-auction",
   "metadata": {
    "execution": {
     "iopub.execute_input": "2022-08-27T16:35:04.029974Z",
     "iopub.status.busy": "2022-08-27T16:35:04.029017Z",
     "iopub.status.idle": "2022-08-27T16:35:04.388477Z",
     "shell.execute_reply": "2022-08-27T16:35:04.387111Z",
     "shell.execute_reply.started": "2022-08-27T16:35:04.029930Z"
    }
   },
   "outputs": [],
   "source": [
    "trend = average_sales.rolling(\n",
    "    window=365,\n",
    "    center=True,\n",
    "    min_periods=183,\n",
    ").mean()\n",
    "\n",
    "ax = average_sales.plot(**plot_params, alpha=0.5)\n",
    "ax = trend.plot(ax=ax, linewidth=3)"
   ]
  },
  {
   "cell_type": "markdown",
   "id": "contemporary-astronomy",
   "metadata": {},
   "source": [
    "# 3) Create a Trend Feature\n",
    "\n",
    "Use `DeterministicProcess` to create a feature set for a cubic trend model. Also create features for a 90-day forecast."
   ]
  },
  {
   "cell_type": "code",
   "execution_count": 14,
   "id": "appointed-abuse",
   "metadata": {
    "execution": {
     "iopub.execute_input": "2022-08-27T16:47:10.511462Z",
     "iopub.status.busy": "2022-08-27T16:47:10.510979Z",
     "iopub.status.idle": "2022-08-27T16:47:10.545394Z",
     "shell.execute_reply": "2022-08-27T16:47:10.544420Z",
     "shell.execute_reply.started": "2022-08-27T16:47:10.511429Z"
    }
   },
   "outputs": [],
   "source": [
    "from statsmodels.tsa.deterministic import DeterministicProcess\n",
    "\n",
    "y = average_sales.copy()  # the target\n",
    "\n",
    "# YOUR CODE HERE: Instantiate `DeterministicProcess` with arguments\n",
    "# appropriate for a cubic trend model\n",
    "dp = DeterministicProcess(\n",
    "    index=y.index,\n",
    "    #constant=True,\n",
    "    order=3,\n",
    "    drop=True,\n",
    ")\n",
    "\n",
    "# YOUR CODE HERE: Create the feature set for the dates given in y.index\n",
    "X = dp.in_sample()\n",
    "\n",
    "# YOUR CODE HERE: Create features for a 90-day forecast.\n",
    "X_fore = dp.out_of_sample(steps=90)\n",
    "\n",
    "\n",
    "# Check your answer\n",
    "q_3.check()\n",
    "\n",
    "X.head()"
   ]
  },
  {
   "cell_type": "code",
   "execution_count": 10,
   "id": "offshore-controversy",
   "metadata": {
    "execution": {
     "iopub.execute_input": "2022-08-27T16:45:32.650492Z",
     "iopub.status.busy": "2022-08-27T16:45:32.650061Z",
     "iopub.status.idle": "2022-08-27T16:45:32.660358Z",
     "shell.execute_reply": "2022-08-27T16:45:32.659062Z",
     "shell.execute_reply.started": "2022-08-27T16:45:32.650459Z"
    }
   },
   "outputs": [],
   "source": [
    "y.head()"
   ]
  },
  {
   "cell_type": "code",
   "execution_count": 16,
   "id": "grand-muscle",
   "metadata": {
    "execution": {
     "iopub.execute_input": "2022-08-27T16:48:44.544224Z",
     "iopub.status.busy": "2022-08-27T16:48:44.543714Z",
     "iopub.status.idle": "2022-08-27T16:48:44.559417Z",
     "shell.execute_reply": "2022-08-27T16:48:44.558149Z",
     "shell.execute_reply.started": "2022-08-27T16:48:44.544186Z"
    }
   },
   "outputs": [],
   "source": [
    "# Lines below will give you a hint or solution code\n",
    "q_3.hint()\n",
    "q_3.solution()"
   ]
  },
  {
   "cell_type": "markdown",
   "id": "respective-consumption",
   "metadata": {},
   "source": [
    "You can see the a plot of the result by running the next cell."
   ]
  },
  {
   "cell_type": "code",
   "execution_count": 18,
   "id": "optional-replica",
   "metadata": {
    "execution": {
     "iopub.execute_input": "2022-08-27T16:49:45.545988Z",
     "iopub.status.busy": "2022-08-27T16:49:45.545083Z",
     "iopub.status.idle": "2022-08-27T16:49:46.033715Z",
     "shell.execute_reply": "2022-08-27T16:49:46.032351Z",
     "shell.execute_reply.started": "2022-08-27T16:49:45.545941Z"
    }
   },
   "outputs": [],
   "source": [
    "model = LinearRegression()\n",
    "model.fit(X, y)\n",
    "\n",
    "y_pred = pd.Series(model.predict(X), index=X.index)\n",
    "y_fore = pd.Series(model.predict(X_fore), index=X_fore.index)\n",
    "\n",
    "ax = y.plot(**plot_params, alpha=0.5, title=\"Average Sales\", ylabel=\"items sold\", figsize=(18,6))\n",
    "ax = y_pred.plot(ax=ax, linewidth=3, label=\"Trend\", color='C0')\n",
    "ax = y_fore.plot(ax=ax, linewidth=3, label=\"Trend Forecast\", color='C3')\n",
    "ax.legend();"
   ]
  },
  {
   "cell_type": "markdown",
   "id": "radical-andrew",
   "metadata": {},
   "source": [
    "--------------------------------------------------------------------------------\n",
    "\n",
    "One way to fit more complicated trends is to increase the order of the polynomial you use. To get a better fit to the somewhat complicated trend in *Store Sales*, we could try using an order 11 polynomial."
   ]
  },
  {
   "cell_type": "code",
   "execution_count": 19,
   "id": "dimensional-debate",
   "metadata": {
    "execution": {
     "iopub.execute_input": "2022-08-27T16:50:46.394202Z",
     "iopub.status.busy": "2022-08-27T16:50:46.393746Z",
     "iopub.status.idle": "2022-08-27T16:50:46.913551Z",
     "shell.execute_reply": "2022-08-27T16:50:46.912243Z",
     "shell.execute_reply.started": "2022-08-27T16:50:46.394165Z"
    }
   },
   "outputs": [],
   "source": [
    "from statsmodels.tsa.deterministic import DeterministicProcess\n",
    "\n",
    "dp = DeterministicProcess(index=y.index, order=11)\n",
    "X = dp.in_sample()\n",
    "\n",
    "model = LinearRegression()\n",
    "model.fit(X, y)\n",
    "\n",
    "y_pred = pd.Series(model.predict(X), index=X.index)\n",
    "\n",
    "ax = y.plot(**plot_params, alpha=0.5, title=\"Average Sales\", ylabel=\"items sold\")\n",
    "ax = y_pred.plot(ax=ax, linewidth=3, label=\"Trend\", color='C0')\n",
    "ax.legend();"
   ]
  },
  {
   "cell_type": "markdown",
   "id": "shared-contribution",
   "metadata": {},
   "source": [
    "# 4) Understand risks of forecasting with high-order polynomials\n",
    "\n",
    "High-order polynomials are generally not well-suited to forecasting, however. Can you guess why?"
   ]
  },
  {
   "cell_type": "code",
   "execution_count": 20,
   "id": "searching-linux",
   "metadata": {
    "execution": {
     "iopub.execute_input": "2022-08-27T16:51:15.666766Z",
     "iopub.status.busy": "2022-08-27T16:51:15.666366Z",
     "iopub.status.idle": "2022-08-27T16:51:15.677606Z",
     "shell.execute_reply": "2022-08-27T16:51:15.676338Z",
     "shell.execute_reply.started": "2022-08-27T16:51:15.666736Z"
    }
   },
   "outputs": [],
   "source": [
    "# View the solution (Run this cell to receive credit!)\n",
    "q_4.check()"
   ]
  },
  {
   "cell_type": "code",
   "execution_count": 22,
   "id": "august-effectiveness",
   "metadata": {
    "execution": {
     "iopub.execute_input": "2022-08-27T16:52:02.019063Z",
     "iopub.status.busy": "2022-08-27T16:52:02.018576Z",
     "iopub.status.idle": "2022-08-27T16:52:02.028508Z",
     "shell.execute_reply": "2022-08-27T16:52:02.027306Z",
     "shell.execute_reply.started": "2022-08-27T16:52:02.019027Z"
    }
   },
   "outputs": [],
   "source": [
    "# Uncomment the next line for a hint\n",
    "q_4.hint()"
   ]
  },
  {
   "cell_type": "markdown",
   "id": "fiscal-municipality",
   "metadata": {},
   "source": [
    "Run this cell to see the same 90-day forecast using an order 11 polynomial. Does it confirm your intuition?"
   ]
  },
  {
   "cell_type": "code",
   "execution_count": 21,
   "id": "accepted-passing",
   "metadata": {
    "execution": {
     "iopub.execute_input": "2022-08-27T16:51:53.509274Z",
     "iopub.status.busy": "2022-08-27T16:51:53.508777Z",
     "iopub.status.idle": "2022-08-27T16:51:53.962481Z",
     "shell.execute_reply": "2022-08-27T16:51:53.960957Z",
     "shell.execute_reply.started": "2022-08-27T16:51:53.509235Z"
    }
   },
   "outputs": [],
   "source": [
    "X_fore = dp.out_of_sample(steps=90)\n",
    "y_fore = pd.Series(model.predict(X_fore), index=X_fore.index)\n",
    "\n",
    "ax = y.plot(**plot_params, alpha=0.5, title=\"Average Sales\", ylabel=\"items sold\")\n",
    "ax = y_pred.plot(ax=ax, linewidth=3, label=\"Trend\", color='C0')\n",
    "ax = y_fore.plot(ax=ax, linewidth=3, label=\"Trend Forecast\", color='C3')\n",
    "ax.legend();"
   ]
  },
  {
   "cell_type": "markdown",
   "id": "virgin-cargo",
   "metadata": {},
   "source": [
    "--------------------------------------------------------------------------------\n",
    "\n",
    "# (Optional) Fit trend with splines\n",
    "\n",
    "*Splines* are a nice alternative to polynomials when you want to fit a trend. The *Multivariate Adaptive Regression Splines* (MARS) algorithm in the `pyearth` library is powerful and easy to use. There are a lot of hyperparameters you may want to investigate."
   ]
  },
  {
   "cell_type": "code",
   "execution_count": 23,
   "id": "duplicate-resolution",
   "metadata": {
    "execution": {
     "iopub.execute_input": "2022-08-27T16:53:22.022883Z",
     "iopub.status.busy": "2022-08-27T16:53:22.022432Z",
     "iopub.status.idle": "2022-08-27T16:53:30.027116Z",
     "shell.execute_reply": "2022-08-27T16:53:30.026047Z",
     "shell.execute_reply.started": "2022-08-27T16:53:22.022846Z"
    }
   },
   "outputs": [],
   "source": [
    "from pyearth import Earth\n",
    "\n",
    "# Target and features are the same as before\n",
    "y = average_sales.copy()\n",
    "dp = DeterministicProcess(index=y.index, order=1)\n",
    "X = dp.in_sample()\n",
    "\n",
    "# Fit a MARS model with `Earth`\n",
    "model = Earth()\n",
    "model.fit(X, y)\n",
    "\n",
    "y_pred = pd.Series(model.predict(X), index=X.index)\n",
    "\n",
    "ax = y.plot(**plot_params, title=\"Average Sales\", ylabel=\"items sold\")\n",
    "ax = y_pred.plot(ax=ax, linewidth=3, label=\"Trend\")"
   ]
  },
  {
   "cell_type": "markdown",
   "id": "intense-affair",
   "metadata": {},
   "source": [
    "Forecasting complicated trends like this will typically be difficult (if not impossible). With historical data, however, you can use splines to isolate other patterns in a time series by *detrending*."
   ]
  },
  {
   "cell_type": "code",
   "execution_count": 25,
   "id": "pressed-divorce",
   "metadata": {
    "execution": {
     "iopub.execute_input": "2022-08-27T16:53:57.155547Z",
     "iopub.status.busy": "2022-08-27T16:53:57.154319Z",
     "iopub.status.idle": "2022-08-27T16:53:57.464325Z",
     "shell.execute_reply": "2022-08-27T16:53:57.463143Z",
     "shell.execute_reply.started": "2022-08-27T16:53:57.155505Z"
    }
   },
   "outputs": [],
   "source": [
    "y_detrended = y - y_pred   # remove the trend from store_sales\n",
    "\n",
    "y_detrended.plot(**plot_params, title=\"Detrended Average Sales\", figsize=(18,6));"
   ]
  },
  {
   "cell_type": "markdown",
   "id": "velvet-certificate",
   "metadata": {},
   "source": [
    "# Keep Going #\n",
    "\n",
    "[**Model seasonality**](https://www.kaggle.com/ryanholbrook/seasonality), another common type of time dependence, with indicators and Fourier features."
   ]
  },
  {
   "cell_type": "markdown",
   "id": "domestic-timothy",
   "metadata": {},
   "source": [
    "---\n",
    "\n",
    "\n",
    "\n",
    "\n",
    "*Have questions or comments? Visit the [course discussion forum](https://www.kaggle.com/learn/time-series/discussion) to chat with other learners.*"
   ]
  }
 ],
 "metadata": {
  "jupytext": {
   "formats": "md,ipynb"
  },
  "kernelspec": {
   "display_name": "Python 3",
   "language": "python",
   "name": "python3"
  },
  "language_info": {
   "codemirror_mode": {
    "name": "ipython",
    "version": 3
   },
   "file_extension": ".py",
   "mimetype": "text/x-python",
   "name": "python",
   "nbconvert_exporter": "python",
   "pygments_lexer": "ipython3",
   "version": "3.8.10"
  }
 },
 "nbformat": 4,
 "nbformat_minor": 5
}
