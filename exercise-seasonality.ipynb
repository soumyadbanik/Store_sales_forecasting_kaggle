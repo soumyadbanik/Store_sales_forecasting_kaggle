{
 "cells": [
  {
   "cell_type": "markdown",
   "id": "victorian-sister",
   "metadata": {},
   "source": [
    "**This notebook is an exercise in the [Time Series](https://www.kaggle.com/learn/time-series) course.  You can reference the tutorial at [this link](https://www.kaggle.com/ryanholbrook/seasonality).**\n",
    "\n",
    "---\n"
   ]
  },
  {
   "cell_type": "markdown",
   "id": "centered-office",
   "metadata": {},
   "source": [
    "# Introduction #\n",
    "\n",
    "Run this cell to set everything up!"
   ]
  },
  {
   "cell_type": "code",
   "execution_count": 1,
   "id": "annual-cheese",
   "metadata": {
    "execution": {
     "iopub.execute_input": "2022-08-28T04:27:44.629876Z",
     "iopub.status.busy": "2022-08-28T04:27:44.629188Z",
     "iopub.status.idle": "2022-08-28T04:27:50.703270Z",
     "shell.execute_reply": "2022-08-28T04:27:50.702192Z",
     "shell.execute_reply.started": "2022-08-28T04:27:44.629783Z"
    }
   },
   "outputs": [],
   "source": [
    "# Setup feedback system\n",
    "from learntools.core import binder\n",
    "binder.bind(globals())\n",
    "from learntools.time_series.ex3 import *\n",
    "\n",
    "# Setup notebook\n",
    "from pathlib import Path\n",
    "from learntools.time_series.style import *  # plot style settings\n",
    "from learntools.time_series.utils import plot_periodogram, seasonal_plot\n",
    "\n",
    "import pandas as pd\n",
    "import matplotlib.pyplot as plt\n",
    "import numpy as np\n",
    "import seaborn as sns\n",
    "from sklearn.linear_model import LinearRegression\n",
    "from statsmodels.tsa.deterministic import CalendarFourier, DeterministicProcess\n",
    "\n",
    "\n",
    "comp_dir = Path('../input/store-sales-time-series-forecasting')\n",
    "\n",
    "holidays_events = pd.read_csv(\n",
    "    comp_dir / \"holidays_events.csv\",\n",
    "    dtype={\n",
    "        'type': 'category',\n",
    "        'locale': 'category',\n",
    "        'locale_name': 'category',\n",
    "        'description': 'category',\n",
    "        'transferred': 'bool',\n",
    "    },\n",
    "    parse_dates=['date'],\n",
    "    infer_datetime_format=True,\n",
    ")\n",
    "holidays_events = holidays_events.set_index('date').to_period('D')\n",
    "\n",
    "store_sales = pd.read_csv(\n",
    "    comp_dir / 'train.csv',\n",
    "    usecols=['store_nbr', 'family', 'date', 'sales'],\n",
    "    dtype={\n",
    "        'store_nbr': 'category',\n",
    "        'family': 'category',\n",
    "        'sales': 'float32',\n",
    "    },\n",
    "    parse_dates=['date'],\n",
    "    infer_datetime_format=True,\n",
    ")\n",
    "store_sales['date'] = store_sales.date.dt.to_period('D')\n",
    "store_sales = store_sales.set_index(['store_nbr', 'family', 'date']).sort_index()\n",
    "average_sales = (\n",
    "    store_sales\n",
    "    .groupby('date').mean()\n",
    "    .squeeze()\n",
    "    .loc['2017']\n",
    ")"
   ]
  },
  {
   "cell_type": "markdown",
   "id": "alert-store",
   "metadata": {},
   "source": [
    "-------------------------------------------------------------------------------\n",
    "\n",
    "Examine the following seasonal plot:"
   ]
  },
  {
   "cell_type": "code",
   "execution_count": 2,
   "id": "mexican-stevens",
   "metadata": {
    "execution": {
     "iopub.execute_input": "2022-08-28T04:27:50.705829Z",
     "iopub.status.busy": "2022-08-28T04:27:50.705418Z",
     "iopub.status.idle": "2022-08-28T04:27:51.573745Z",
     "shell.execute_reply": "2022-08-28T04:27:51.572770Z",
     "shell.execute_reply.started": "2022-08-28T04:27:50.705795Z"
    }
   },
   "outputs": [],
   "source": [
    "X = average_sales.to_frame()\n",
    "X[\"week\"] = X.index.week\n",
    "X[\"day\"] = X.index.dayofweek\n",
    "seasonal_plot(X, y='sales', period='week', freq='day');"
   ]
  },
  {
   "cell_type": "markdown",
   "id": "preceding-tiger",
   "metadata": {},
   "source": [
    "And also the periodogram:"
   ]
  },
  {
   "cell_type": "code",
   "execution_count": 3,
   "id": "scheduled-donor",
   "metadata": {
    "execution": {
     "iopub.execute_input": "2022-08-28T04:27:51.575833Z",
     "iopub.status.busy": "2022-08-28T04:27:51.575126Z",
     "iopub.status.idle": "2022-08-28T04:27:52.127220Z",
     "shell.execute_reply": "2022-08-28T04:27:52.126109Z",
     "shell.execute_reply.started": "2022-08-28T04:27:51.575798Z"
    }
   },
   "outputs": [],
   "source": [
    "plot_periodogram(average_sales);"
   ]
  },
  {
   "cell_type": "markdown",
   "id": "computational-newspaper",
   "metadata": {},
   "source": [
    "# 1) Determine seasonality\n",
    "\n",
    "What kind of seasonality do you see evidence of? Once you've thought about it, run the next cell for some discussion."
   ]
  },
  {
   "cell_type": "code",
   "execution_count": 4,
   "id": "placed-therapy",
   "metadata": {
    "execution": {
     "iopub.execute_input": "2022-08-28T04:27:52.130004Z",
     "iopub.status.busy": "2022-08-28T04:27:52.129643Z",
     "iopub.status.idle": "2022-08-28T04:27:52.140165Z",
     "shell.execute_reply": "2022-08-28T04:27:52.138944Z",
     "shell.execute_reply.started": "2022-08-28T04:27:52.129972Z"
    }
   },
   "outputs": [],
   "source": [
    "# View the solution (Run this cell to receive credit!)\n",
    "q_1.check()"
   ]
  },
  {
   "cell_type": "markdown",
   "id": "decreased-bonus",
   "metadata": {},
   "source": [
    "-------------------------------------------------------------------------------\n",
    "\n",
    "# 2) Create seasonal features\n",
    "\n",
    "Use `DeterministicProcess` and `CalendarFourier` to create:\n",
    "- indicators for weekly seasons and\n",
    "- Fourier features of order 4 for monthly seasons."
   ]
  },
  {
   "cell_type": "code",
   "execution_count": 5,
   "id": "rolled-energy",
   "metadata": {
    "execution": {
     "iopub.execute_input": "2022-08-28T04:27:52.142930Z",
     "iopub.status.busy": "2022-08-28T04:27:52.142045Z",
     "iopub.status.idle": "2022-08-28T04:27:54.800347Z",
     "shell.execute_reply": "2022-08-28T04:27:54.799256Z",
     "shell.execute_reply.started": "2022-08-28T04:27:52.142883Z"
    }
   },
   "outputs": [],
   "source": [
    "y = average_sales.copy()\n",
    "\n",
    "# YOUR CODE HERE\n",
    "fourier = CalendarFourier(freq=\"M\", order=4)\n",
    "dp = DeterministicProcess(\n",
    "    index=y.index,\n",
    "    constant=True,\n",
    "    order=1,\n",
    "    # YOUR CODE HERE\n",
    "    seasonal=True,\n",
    "    additional_terms=[fourier],\n",
    "    drop=True,    #drop terms to avoid collinearity\n",
    ")\n",
    "X = dp.in_sample()\n",
    "\n",
    "# Check your answer\n",
    "q_2.check()"
   ]
  },
  {
   "cell_type": "code",
   "execution_count": 6,
   "id": "vanilla-dietary",
   "metadata": {
    "execution": {
     "iopub.execute_input": "2022-08-28T04:27:54.802585Z",
     "iopub.status.busy": "2022-08-28T04:27:54.801977Z",
     "iopub.status.idle": "2022-08-28T04:27:54.807031Z",
     "shell.execute_reply": "2022-08-28T04:27:54.805826Z",
     "shell.execute_reply.started": "2022-08-28T04:27:54.802551Z"
    }
   },
   "outputs": [],
   "source": [
    "# Lines below will give you a hint or solution code\n",
    "#q_2.hint()\n",
    "#q_2.solution()"
   ]
  },
  {
   "cell_type": "markdown",
   "id": "ultimate-screw",
   "metadata": {},
   "source": [
    "Now run this cell to fit the seasonal model."
   ]
  },
  {
   "cell_type": "code",
   "execution_count": 7,
   "id": "apparent-collaboration",
   "metadata": {
    "execution": {
     "iopub.execute_input": "2022-08-28T04:27:54.809751Z",
     "iopub.status.busy": "2022-08-28T04:27:54.809344Z",
     "iopub.status.idle": "2022-08-28T04:27:55.278531Z",
     "shell.execute_reply": "2022-08-28T04:27:55.277447Z",
     "shell.execute_reply.started": "2022-08-28T04:27:54.809710Z"
    }
   },
   "outputs": [],
   "source": [
    "model = LinearRegression().fit(X, y)\n",
    "y_pred = pd.Series(\n",
    "    model.predict(X),\n",
    "    index=X.index,\n",
    "    name='Fitted',\n",
    ")\n",
    "\n",
    "y_pred = pd.Series(model.predict(X), index=X.index)\n",
    "ax = y.plot(**plot_params, alpha=0.5, title=\"Average Sales\", ylabel=\"items sold\")\n",
    "ax = y_pred.plot(ax=ax, label=\"Seasonal\")\n",
    "ax.legend();"
   ]
  },
  {
   "cell_type": "markdown",
   "id": "incorrect-formula",
   "metadata": {},
   "source": [
    "-------------------------------------------------------------------------------\n"
   ]
  },
  {
   "cell_type": "markdown",
   "id": "single-annex",
   "metadata": {},
   "source": [
    "Removing from a series its trend or seasons is called **detrending** or **deseasonalizing** the series.\n",
    "\n",
    "Look at the periodogram of the deseasonalized series."
   ]
  },
  {
   "cell_type": "code",
   "execution_count": 8,
   "id": "plastic-syria",
   "metadata": {
    "execution": {
     "iopub.execute_input": "2022-08-28T04:27:55.528969Z",
     "iopub.status.busy": "2022-08-28T04:27:55.527953Z",
     "iopub.status.idle": "2022-08-28T04:27:56.305559Z",
     "shell.execute_reply": "2022-08-28T04:27:56.304174Z",
     "shell.execute_reply.started": "2022-08-28T04:27:55.528931Z"
    }
   },
   "outputs": [],
   "source": [
    "y_deseason = y - y_pred\n",
    "\n",
    "fig, (ax1, ax2) = plt.subplots(2, 1, sharex=True, sharey=True, figsize=(10, 7))\n",
    "ax1 = plot_periodogram(y, ax=ax1)\n",
    "ax1.set_title(\"Product Sales Frequency Components\")\n",
    "ax2 = plot_periodogram(y_deseason, ax=ax2);\n",
    "ax2.set_title(\"Deseasonalized\");"
   ]
  },
  {
   "cell_type": "markdown",
   "id": "numerical-steering",
   "metadata": {},
   "source": [
    "# 3) Check for remaining seasonality\n",
    "\n",
    "Based on these periodograms, how effectively does it appear your model captured the seasonality in *Average Sales*? Does the periodogram agree with the time plot of the deseasonalized series?"
   ]
  },
  {
   "cell_type": "code",
   "execution_count": 9,
   "id": "purple-spyware",
   "metadata": {
    "execution": {
     "iopub.execute_input": "2022-08-28T04:27:58.810530Z",
     "iopub.status.busy": "2022-08-28T04:27:58.810131Z",
     "iopub.status.idle": "2022-08-28T04:27:58.818086Z",
     "shell.execute_reply": "2022-08-28T04:27:58.817253Z",
     "shell.execute_reply.started": "2022-08-28T04:27:58.810497Z"
    }
   },
   "outputs": [],
   "source": [
    "# View the solution (Run this cell to receive credit!)\n",
    "q_3.check()"
   ]
  },
  {
   "cell_type": "markdown",
   "id": "connected-kuwait",
   "metadata": {},
   "source": [
    "-------------------------------------------------------------------------------\n",
    "\n",
    "The *Store Sales* dataset includes a table of Ecuadorian holidays."
   ]
  },
  {
   "cell_type": "code",
   "execution_count": 10,
   "id": "aboriginal-uncertainty",
   "metadata": {
    "execution": {
     "iopub.execute_input": "2022-08-28T04:28:01.541144Z",
     "iopub.status.busy": "2022-08-28T04:28:01.540377Z",
     "iopub.status.idle": "2022-08-28T04:28:01.562591Z",
     "shell.execute_reply": "2022-08-28T04:28:01.561814Z",
     "shell.execute_reply.started": "2022-08-28T04:28:01.541103Z"
    }
   },
   "outputs": [],
   "source": [
    "# National and regional holidays in the training set\n",
    "holidays = (\n",
    "    holidays_events\n",
    "    .query(\"locale in ['National', 'Regional']\")\n",
    "    .loc['2017':'2017-08-15', ['description']]\n",
    "    .assign(description=lambda x: x.description.cat.remove_unused_categories())\n",
    ")\n",
    "\n",
    "display(holidays)"
   ]
  },
  {
   "cell_type": "markdown",
   "id": "contemporary-lebanon",
   "metadata": {},
   "source": [
    "From a plot of the deseasonalized *Average Sales*, it appears these holidays could have some predictive power."
   ]
  },
  {
   "cell_type": "code",
   "execution_count": 11,
   "id": "hydraulic-convenience",
   "metadata": {
    "execution": {
     "iopub.execute_input": "2022-08-28T04:28:05.662333Z",
     "iopub.status.busy": "2022-08-28T04:28:05.661244Z",
     "iopub.status.idle": "2022-08-28T04:28:06.052616Z",
     "shell.execute_reply": "2022-08-28T04:28:06.051356Z",
     "shell.execute_reply.started": "2022-08-28T04:28:05.662276Z"
    }
   },
   "outputs": [],
   "source": [
    "ax = y_deseason.plot(**plot_params)\n",
    "plt.plot_date(holidays.index, y_deseason[holidays.index], color='C3')\n",
    "ax.set_title('National and Regional Holidays');"
   ]
  },
  {
   "cell_type": "markdown",
   "id": "amino-reliance",
   "metadata": {},
   "source": [
    "# 4) Create holiday features\n",
    "\n",
    "What kind of features could you create to help your model make use of this information? Code your answer in the next cell. (Scikit-learn and Pandas both have utilities that should make this easy. See the `hint` if you'd like more details.)\n"
   ]
  },
  {
   "cell_type": "code",
   "execution_count": 12,
   "id": "growing-vietnamese",
   "metadata": {
    "execution": {
     "iopub.execute_input": "2022-08-28T04:28:10.004746Z",
     "iopub.status.busy": "2022-08-28T04:28:10.003424Z",
     "iopub.status.idle": "2022-08-28T04:28:10.030331Z",
     "shell.execute_reply": "2022-08-28T04:28:10.029040Z",
     "shell.execute_reply.started": "2022-08-28T04:28:10.004637Z"
    }
   },
   "outputs": [],
   "source": [
    "X.head()"
   ]
  },
  {
   "cell_type": "code",
   "execution_count": 24,
   "id": "compliant-paintball",
   "metadata": {
    "execution": {
     "iopub.execute_input": "2022-08-28T04:41:59.650525Z",
     "iopub.status.busy": "2022-08-28T04:41:59.650128Z",
     "iopub.status.idle": "2022-08-28T04:41:59.658595Z",
     "shell.execute_reply": "2022-08-28T04:41:59.657271Z",
     "shell.execute_reply.started": "2022-08-28T04:41:59.650492Z"
    }
   },
   "outputs": [],
   "source": [
    "type(holidays)\n",
    "holidays.columns"
   ]
  },
  {
   "cell_type": "code",
   "execution_count": 16,
   "id": "sunset-polymer",
   "metadata": {
    "execution": {
     "iopub.execute_input": "2022-08-28T04:38:36.216853Z",
     "iopub.status.busy": "2022-08-28T04:38:36.215867Z",
     "iopub.status.idle": "2022-08-28T04:38:36.237798Z",
     "shell.execute_reply": "2022-08-28T04:38:36.236718Z",
     "shell.execute_reply.started": "2022-08-28T04:38:36.216808Z"
    }
   },
   "outputs": [],
   "source": [
    "# YOUR CODE HERE\n",
    "X_holidays = pd.get_dummies(holidays)\n",
    "\n",
    "X2 = X.join(X_holidays, on='date').fillna(0.0)\n",
    "\n",
    "# Check your answer\n",
    "q_4.check()"
   ]
  },
  {
   "cell_type": "code",
   "execution_count": 17,
   "id": "stable-lloyd",
   "metadata": {
    "execution": {
     "iopub.execute_input": "2022-08-28T04:39:10.423669Z",
     "iopub.status.busy": "2022-08-28T04:39:10.423243Z",
     "iopub.status.idle": "2022-08-28T04:39:10.461286Z",
     "shell.execute_reply": "2022-08-28T04:39:10.460073Z",
     "shell.execute_reply.started": "2022-08-28T04:39:10.423632Z"
    }
   },
   "outputs": [],
   "source": [
    "X2.head()"
   ]
  },
  {
   "cell_type": "code",
   "execution_count": 14,
   "id": "resident-airplane",
   "metadata": {
    "execution": {
     "iopub.execute_input": "2022-08-28T04:36:17.600179Z",
     "iopub.status.busy": "2022-08-28T04:36:17.599660Z",
     "iopub.status.idle": "2022-08-28T04:36:17.613861Z",
     "shell.execute_reply": "2022-08-28T04:36:17.612904Z",
     "shell.execute_reply.started": "2022-08-28T04:36:17.600140Z"
    }
   },
   "outputs": [],
   "source": [
    "# Lines below will give you a hint or solution code\n",
    "q_4.hint()\n",
    "#q_4.hint(2)\n",
    "q_4.solution()"
   ]
  },
  {
   "cell_type": "markdown",
   "id": "subject-steps",
   "metadata": {},
   "source": [
    "Use this cell to fit the seasonal model with holiday features added. Do the fitted values seem to have improved?"
   ]
  },
  {
   "cell_type": "code",
   "execution_count": 44,
   "id": "covered-companion",
   "metadata": {
    "execution": {
     "iopub.execute_input": "2022-08-28T05:19:13.172448Z",
     "iopub.status.busy": "2022-08-28T05:19:13.171750Z",
     "iopub.status.idle": "2022-08-28T05:19:13.628983Z",
     "shell.execute_reply": "2022-08-28T05:19:13.627836Z",
     "shell.execute_reply.started": "2022-08-28T05:19:13.172405Z"
    }
   },
   "outputs": [],
   "source": [
    "model = LinearRegression().fit(X2, y)\n",
    "y_pred = pd.Series(\n",
    "    model.predict(X2),\n",
    "    index=X2.index,\n",
    "    name='Fitted',\n",
    ")\n",
    "\n",
    "y_pred = pd.Series(model.predict(X2), index=X2.index)\n",
    "ax = y.plot(**plot_params, alpha=0.5, title=\"Average Sales\", ylabel=\"items sold\")\n",
    "ax = y_pred.plot(ax=ax, label=\"Seasonal\")\n",
    "ax.legend();"
   ]
  },
  {
   "cell_type": "code",
   "execution_count": 43,
   "id": "ethical-potato",
   "metadata": {
    "execution": {
     "iopub.execute_input": "2022-08-28T05:19:04.531833Z",
     "iopub.status.busy": "2022-08-28T05:19:04.530671Z",
     "iopub.status.idle": "2022-08-28T05:19:04.545350Z",
     "shell.execute_reply": "2022-08-28T05:19:04.544158Z",
     "shell.execute_reply.started": "2022-08-28T05:19:04.531778Z"
    }
   },
   "outputs": [],
   "source": [
    "y = average_sales.copy()\n",
    "y.loc[y.index.isin(holidays.index)]"
   ]
  },
  {
   "cell_type": "code",
   "execution_count": 47,
   "id": "upper-tractor",
   "metadata": {
    "execution": {
     "iopub.execute_input": "2022-08-28T05:20:16.632580Z",
     "iopub.status.busy": "2022-08-28T05:20:16.631976Z",
     "iopub.status.idle": "2022-08-28T05:20:16.640414Z",
     "shell.execute_reply": "2022-08-28T05:20:16.639297Z",
     "shell.execute_reply.started": "2022-08-28T05:20:16.632545Z"
    }
   },
   "outputs": [],
   "source": [
    "y_pred"
   ]
  },
  {
   "cell_type": "code",
   "execution_count": 51,
   "id": "preliminary-steel",
   "metadata": {
    "execution": {
     "iopub.execute_input": "2022-08-28T05:23:03.881193Z",
     "iopub.status.busy": "2022-08-28T05:23:03.880771Z",
     "iopub.status.idle": "2022-08-28T05:23:03.901628Z",
     "shell.execute_reply": "2022-08-28T05:23:03.900450Z",
     "shell.execute_reply.started": "2022-08-28T05:23:03.881157Z"
    }
   },
   "outputs": [],
   "source": [
    "df3 = pd.concat([y,y_pred, y_pred-y],axis=1)\n",
    "df3.loc[df3.index.isin(holidays.index)].round(3)"
   ]
  },
  {
   "cell_type": "code",
   "execution_count": null,
   "id": "fantastic-willow",
   "metadata": {},
   "outputs": [],
   "source": []
  },
  {
   "cell_type": "markdown",
   "id": "returning-tongue",
   "metadata": {},
   "source": [
    "-------------------------------------------------------------------------------\n",
    "\n",
    "# (Optional) Submit to Store Sales competition\n",
    "\n",
    "This part of the exercise will walk you through your first submission to this course's companion competition: [**Store Sales - Time Series Forecasting**](https://www.kaggle.com/c/29781). Submitting to the competition isn't required to complete the course, but it's a great way to try out your new skills.\n",
    "\n",
    "The next cell creates a seasonal model of the kind you've learned about in this lesson for the full *Store Sales* dataset with all 1800 time series."
   ]
  },
  {
   "cell_type": "code",
   "execution_count": 26,
   "id": "automatic-apartment",
   "metadata": {
    "execution": {
     "iopub.execute_input": "2022-08-28T04:47:31.698361Z",
     "iopub.status.busy": "2022-08-28T04:47:31.697925Z",
     "iopub.status.idle": "2022-08-28T04:47:33.017511Z",
     "shell.execute_reply": "2022-08-28T04:47:33.015987Z",
     "shell.execute_reply.started": "2022-08-28T04:47:31.698325Z"
    }
   },
   "outputs": [],
   "source": [
    "y = store_sales.unstack(['store_nbr', 'family']).loc[\"2017\"]\n",
    "\n",
    "# Create training data\n",
    "fourier = CalendarFourier(freq='M', order=4)\n",
    "dp = DeterministicProcess(\n",
    "    index=y.index,\n",
    "    constant=True,\n",
    "    order=1,\n",
    "    seasonal=True,\n",
    "    additional_terms=[fourier],\n",
    "    drop=True,\n",
    ")\n",
    "X = dp.in_sample()\n",
    "X['NewYear'] = (X.index.dayofyear == 1)\n",
    "\n",
    "model = LinearRegression(fit_intercept=False)\n",
    "model.fit(X, y)\n",
    "y_pred = pd.DataFrame(model.predict(X), index=X.index, columns=y.columns)"
   ]
  },
  {
   "cell_type": "markdown",
   "id": "precious-clause",
   "metadata": {},
   "source": [
    "You can use this cell to see some of its predictions.\n"
   ]
  },
  {
   "cell_type": "code",
   "execution_count": 27,
   "id": "early-sellers",
   "metadata": {
    "execution": {
     "iopub.execute_input": "2022-08-28T04:47:41.866047Z",
     "iopub.status.busy": "2022-08-28T04:47:41.865629Z",
     "iopub.status.idle": "2022-08-28T04:47:42.288004Z",
     "shell.execute_reply": "2022-08-28T04:47:42.286768Z",
     "shell.execute_reply.started": "2022-08-28T04:47:41.866013Z"
    }
   },
   "outputs": [],
   "source": [
    "STORE_NBR = '1'  # 1 - 54\n",
    "FAMILY = 'PRODUCE'\n",
    "# Uncomment to see a list of product families\n",
    "# display(store_sales.index.get_level_values('family').unique())\n",
    "\n",
    "ax = y.loc(axis=1)['sales', STORE_NBR, FAMILY].plot(**plot_params)\n",
    "ax = y_pred.loc(axis=1)['sales', STORE_NBR, FAMILY].plot(ax=ax)\n",
    "ax.set_title(f'{FAMILY} Sales at Store {STORE_NBR}');"
   ]
  },
  {
   "cell_type": "markdown",
   "id": "adjacent-programming",
   "metadata": {},
   "source": [
    "Finally, this cell loads the test data, creates a feature set for the forecast period, and then creates the submission file `submission.csv`."
   ]
  },
  {
   "cell_type": "code",
   "execution_count": 28,
   "id": "coral-mattress",
   "metadata": {
    "execution": {
     "iopub.execute_input": "2022-08-28T04:48:01.083587Z",
     "iopub.status.busy": "2022-08-28T04:48:01.083150Z",
     "iopub.status.idle": "2022-08-28T04:48:01.717813Z",
     "shell.execute_reply": "2022-08-28T04:48:01.716801Z",
     "shell.execute_reply.started": "2022-08-28T04:48:01.083549Z"
    }
   },
   "outputs": [],
   "source": [
    "df_test = pd.read_csv(\n",
    "    comp_dir / 'test.csv',\n",
    "    dtype={\n",
    "        'store_nbr': 'category',\n",
    "        'family': 'category',\n",
    "        'onpromotion': 'uint32',\n",
    "    },\n",
    "    parse_dates=['date'],\n",
    "    infer_datetime_format=True,\n",
    ")\n",
    "df_test['date'] = df_test.date.dt.to_period('D')\n",
    "df_test = df_test.set_index(['store_nbr', 'family', 'date']).sort_index()\n",
    "\n",
    "# Create features for test set\n",
    "X_test = dp.out_of_sample(steps=16)\n",
    "X_test.index.name = 'date'\n",
    "X_test['NewYear'] = (X_test.index.dayofyear == 1)\n",
    "\n",
    "\n",
    "y_submit = pd.DataFrame(model.predict(X_test), index=X_test.index, columns=y.columns)\n",
    "y_submit = y_submit.stack(['store_nbr', 'family'])\n",
    "y_submit = y_submit.join(df_test.id).reindex(columns=['id', 'sales'])\n",
    "y_submit.to_csv('submission.csv', index=False)"
   ]
  },
  {
   "cell_type": "markdown",
   "id": "approximate-teens",
   "metadata": {},
   "source": [
    "To test your forecasts, you'll need to join the competition (if you haven't already). So open a new window by clicking on [this link](https://www.kaggle.com/c/29781). Then click on the **Join Competition** button.\n",
    "\n",
    "Next, follow the instructions below:\n",
    "1. Begin by clicking on the **Save Version** button in the top right corner of the window.  This will generate a pop-up window.  \n",
    "2. Ensure that the **Save and Run All** option is selected, and then click on the **Save** button.\n",
    "3. This generates a window in the bottom left corner of the notebook.  After it has finished running, click on the number to the right of the **Save Version** button.  This pulls up a list of versions on the right of the screen.  Click on the ellipsis **(...)** to the right of the most recent version, and select **Open in Viewer**.  This brings you into view mode of the same page. You will need to scroll down to get back to these instructions.\n",
    "4. Click on the **Output** tab on the right of the screen.  Then, click on the file you would like to submit, and click on the **Submit** button to submit your results to the leaderboard.\n",
    "\n",
    "You have now successfully submitted to the competition!\n",
    "\n",
    "If you want to keep working to improve your performance, select the **Edit** button in the top right of the screen. Then you can change your code and repeat the process. There's a lot of room to improve, and you will climb up the leaderboard as you work.\n"
   ]
  },
  {
   "cell_type": "markdown",
   "id": "respiratory-armstrong",
   "metadata": {},
   "source": [
    "# Keep Going #\n",
    "\n",
    "[**Use time series as features**](https://www.kaggle.com/ryanholbrook/time-series-as-features) to capture cycles and other kinds of serial dependence."
   ]
  },
  {
   "cell_type": "markdown",
   "id": "interracial-member",
   "metadata": {},
   "source": [
    "---\n",
    "\n",
    "\n",
    "\n",
    "\n",
    "*Have questions or comments? Visit the [course discussion forum](https://www.kaggle.com/learn/time-series/discussion) to chat with other learners.*"
   ]
  }
 ],
 "metadata": {
  "jupytext": {
   "cell_metadata_filter": "-all",
   "formats": "ipynb,md"
  },
  "kernelspec": {
   "display_name": "Python 3",
   "language": "python",
   "name": "python3"
  },
  "language_info": {
   "codemirror_mode": {
    "name": "ipython",
    "version": 3
   },
   "file_extension": ".py",
   "mimetype": "text/x-python",
   "name": "python",
   "nbconvert_exporter": "python",
   "pygments_lexer": "ipython3",
   "version": "3.8.10"
  }
 },
 "nbformat": 4,
 "nbformat_minor": 5
}
