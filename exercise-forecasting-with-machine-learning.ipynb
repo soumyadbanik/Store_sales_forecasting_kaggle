{
 "cells": [
  {
   "cell_type": "markdown",
   "id": "hazardous-albany",
   "metadata": {},
   "source": [
    "**This notebook is an exercise in the [Time Series](https://www.kaggle.com/learn/time-series) course.  You can reference the tutorial at [this link](https://www.kaggle.com/ryanholbrook/forecasting-with-machine-learning).**\n",
    "\n",
    "---\n"
   ]
  },
  {
   "cell_type": "markdown",
   "id": "electric-phrase",
   "metadata": {},
   "source": [
    "# Introduction #\n",
    "\n",
    "Run this cell to set everything up!"
   ]
  },
  {
   "cell_type": "code",
   "execution_count": 1,
   "id": "martial-somerset",
   "metadata": {
    "execution": {
     "iopub.execute_input": "2022-08-28T15:29:52.003010Z",
     "iopub.status.busy": "2022-08-28T15:29:52.002247Z",
     "iopub.status.idle": "2022-08-28T15:30:02.036884Z",
     "shell.execute_reply": "2022-08-28T15:30:02.035678Z",
     "shell.execute_reply.started": "2022-08-28T15:29:52.002901Z"
    }
   },
   "outputs": [],
   "source": [
    "# Setup feedback system\n",
    "from learntools.core import binder\n",
    "binder.bind(globals())\n",
    "from learntools.time_series.ex6 import *\n",
    "\n",
    "# Setup notebook\n",
    "from pathlib import Path\n",
    "import ipywidgets as widgets\n",
    "from learntools.time_series.style import *  # plot style settings\n",
    "from learntools.time_series.utils import (create_multistep_example,\n",
    "                                          load_multistep_data,\n",
    "                                          make_lags,\n",
    "                                          make_multistep_target,\n",
    "                                          plot_multistep)\n",
    "\n",
    "import pandas as pd\n",
    "import matplotlib.pyplot as plt\n",
    "from sklearn.linear_model import LinearRegression\n",
    "from sklearn.multioutput import RegressorChain\n",
    "from sklearn.preprocessing import LabelEncoder\n",
    "from xgboost import XGBRegressor\n",
    "\n",
    "\n",
    "comp_dir = Path('../input/store-sales-time-series-forecasting')\n",
    "\n",
    "store_sales = pd.read_csv(\n",
    "    comp_dir / 'train.csv',\n",
    "    usecols=['store_nbr', 'family', 'date', 'sales', 'onpromotion'],\n",
    "    dtype={\n",
    "        'store_nbr': 'category',\n",
    "        'family': 'category',\n",
    "        'sales': 'float32',\n",
    "        'onpromotion': 'uint32',\n",
    "    },\n",
    "    parse_dates=['date'],\n",
    "    infer_datetime_format=True,\n",
    ")\n",
    "store_sales['date'] = store_sales.date.dt.to_period('D')\n",
    "store_sales = store_sales.set_index(['store_nbr', 'family', 'date']).sort_index()\n",
    "\n",
    "family_sales = (\n",
    "    store_sales\n",
    "    .groupby(['family', 'date'])\n",
    "    .mean()\n",
    "    .unstack('family')\n",
    "    .loc['2017']\n",
    ")\n",
    "\n",
    "test = pd.read_csv(\n",
    "    comp_dir / 'test.csv',\n",
    "    dtype={\n",
    "        'store_nbr': 'category',\n",
    "        'family': 'category',\n",
    "        'onpromotion': 'uint32',\n",
    "    },\n",
    "    parse_dates=['date'],\n",
    "    infer_datetime_format=True,\n",
    ")\n",
    "test['date'] = test.date.dt.to_period('D')\n",
    "test = test.set_index(['store_nbr', 'family', 'date']).sort_index()"
   ]
  },
  {
   "cell_type": "markdown",
   "id": "scheduled-overhead",
   "metadata": {},
   "source": [
    "-------------------------------------------------------------------------------\n",
    "\n",
    "Consider the following three forecasting tasks:\n",
    "\n",
    "a. 3-step forecast using 4 lag features with a 2-step lead time<br>\n",
    "b. 1-step forecast using 3 lag features with a 1-step lead time<br>\n",
    "c. 3-step forecast using 4 lag features with a 1-step lead time<br>\n",
    "\n",
    "Run the next cell to see three datasets, each representing one of the tasks above."
   ]
  },
  {
   "cell_type": "code",
   "execution_count": 2,
   "id": "checked-expense",
   "metadata": {
    "execution": {
     "iopub.execute_input": "2022-08-28T15:30:47.877709Z",
     "iopub.status.busy": "2022-08-28T15:30:47.877297Z",
     "iopub.status.idle": "2022-08-28T15:30:48.095572Z",
     "shell.execute_reply": "2022-08-28T15:30:48.094416Z",
     "shell.execute_reply.started": "2022-08-28T15:30:47.877667Z"
    }
   },
   "outputs": [],
   "source": [
    "datasets = load_multistep_data()\n",
    "\n",
    "data_tabs = widgets.Tab([widgets.Output() for _ in enumerate(datasets)])\n",
    "for i, df in enumerate(datasets):\n",
    "    data_tabs.set_title(i, f'Dataset {i+1}')\n",
    "    with data_tabs.children[i]:\n",
    "        display(df)\n",
    "\n",
    "display(data_tabs)"
   ]
  },
  {
   "cell_type": "markdown",
   "id": "reliable-retro",
   "metadata": {},
   "source": [
    "# 1) Match description to dataset\n",
    "\n",
    "Can you match each task to the appropriate dataset?"
   ]
  },
  {
   "cell_type": "code",
   "execution_count": 3,
   "id": "technical-suspension",
   "metadata": {
    "execution": {
     "iopub.execute_input": "2022-08-28T15:36:22.727834Z",
     "iopub.status.busy": "2022-08-28T15:36:22.727118Z",
     "iopub.status.idle": "2022-08-28T15:36:22.737864Z",
     "shell.execute_reply": "2022-08-28T15:36:22.736533Z",
     "shell.execute_reply.started": "2022-08-28T15:36:22.727794Z"
    }
   },
   "outputs": [],
   "source": [
    "# YOUR CODE HERE: Match the task to the dataset. Answer 1, 2, or 3.\n",
    "task_a = 2\n",
    "task_b = 1\n",
    "task_c = 3\n",
    "\n",
    "# Check your answer\n",
    "q_1.check()"
   ]
  },
  {
   "cell_type": "code",
   "execution_count": 5,
   "id": "charged-grade",
   "metadata": {
    "execution": {
     "iopub.execute_input": "2022-08-28T15:36:33.392458Z",
     "iopub.status.busy": "2022-08-28T15:36:33.391297Z",
     "iopub.status.idle": "2022-08-28T15:36:33.405394Z",
     "shell.execute_reply": "2022-08-28T15:36:33.404349Z",
     "shell.execute_reply.started": "2022-08-28T15:36:33.392399Z"
    }
   },
   "outputs": [],
   "source": [
    "# Lines below will give you a hint or solution code\n",
    "q_1.hint()\n",
    "#q_1.solution()"
   ]
  },
  {
   "cell_type": "markdown",
   "id": "functioning-syndicate",
   "metadata": {},
   "source": [
    "-------------------------------------------------------------------------------\n",
    "\n",
    "Look at the time indexes of the training and test sets. From this information, can you identify the forecasting task for *Store Sales*?"
   ]
  },
  {
   "cell_type": "code",
   "execution_count": 7,
   "id": "threaded-mainstream",
   "metadata": {
    "execution": {
     "iopub.execute_input": "2022-08-28T15:39:44.051441Z",
     "iopub.status.busy": "2022-08-28T15:39:44.051004Z",
     "iopub.status.idle": "2022-08-28T15:39:44.070323Z",
     "shell.execute_reply": "2022-08-28T15:39:44.069053Z",
     "shell.execute_reply.started": "2022-08-28T15:39:44.051404Z"
    }
   },
   "outputs": [],
   "source": [
    "print(\"Training Data\", \"\\n\" + \"-\" * 13 + \"\\n\", store_sales)\n",
    "print(\"\\n\")\n",
    "print(\"Test Data\", \"\\n\" + \"-\" * 9 + \"\\n\", test)"
   ]
  },
  {
   "cell_type": "markdown",
   "id": "dressed-scholarship",
   "metadata": {},
   "source": [
    "# 2) Identify the forecasting task for *Store Sales* competition\n",
    "\n",
    "Try to identify the *forecast origin* and the *forecast horizon*. How many steps are within the forecast horizon? What is the lead time for the forecast?\n",
    "\n",
    "Run this cell after you've thought about your answer."
   ]
  },
  {
   "cell_type": "code",
   "execution_count": 8,
   "id": "honest-medicare",
   "metadata": {
    "execution": {
     "iopub.execute_input": "2022-08-28T15:39:51.644887Z",
     "iopub.status.busy": "2022-08-28T15:39:51.644085Z",
     "iopub.status.idle": "2022-08-28T15:39:51.653473Z",
     "shell.execute_reply": "2022-08-28T15:39:51.652366Z",
     "shell.execute_reply.started": "2022-08-28T15:39:51.644838Z"
    }
   },
   "outputs": [],
   "source": [
    "# View the solution (Run this cell to receive credit!)\n",
    "q_2.check()"
   ]
  },
  {
   "cell_type": "markdown",
   "id": "laden-employer",
   "metadata": {},
   "source": [
    "-------------------------------------------------------------------------------\n",
    "\n",
    "In the tutorial we saw how to create a multistep dataset for a single time series. Fortunately, we can use exactly the same procedure for datasets of multiple series.\n",
    "\n",
    "# 3) Create multistep dataset for *Store Sales*\n",
    "\n",
    "Create targets suitable for the *Store Sales* forecasting task. Use 4 days of lag features. Drop any missing values from both targets and features."
   ]
  },
  {
   "cell_type": "code",
   "execution_count": 9,
   "id": "increasing-pilot",
   "metadata": {
    "execution": {
     "iopub.execute_input": "2022-08-28T15:43:15.031557Z",
     "iopub.status.busy": "2022-08-28T15:43:15.031138Z",
     "iopub.status.idle": "2022-08-28T15:43:15.073756Z",
     "shell.execute_reply": "2022-08-28T15:43:15.072600Z",
     "shell.execute_reply.started": "2022-08-28T15:43:15.031520Z"
    }
   },
   "outputs": [],
   "source": [
    "family_sales.head()"
   ]
  },
  {
   "cell_type": "code",
   "execution_count": 13,
   "id": "figured-cycle",
   "metadata": {
    "execution": {
     "iopub.execute_input": "2022-08-28T15:52:52.634628Z",
     "iopub.status.busy": "2022-08-28T15:52:52.634244Z",
     "iopub.status.idle": "2022-08-28T15:52:52.662463Z",
     "shell.execute_reply": "2022-08-28T15:52:52.661638Z",
     "shell.execute_reply.started": "2022-08-28T15:52:52.634596Z"
    }
   },
   "outputs": [],
   "source": [
    "# YOUR CODE HERE\n",
    "y = family_sales.loc[:, 'sales']\n",
    "\n",
    "# YOUR CODE HERE: Make 4 lag features\n",
    "X = make_lags(y, lags=4).dropna()\n",
    "\n",
    "# YOUR CODE HERE: Make multistep target\n",
    "y = make_multistep_target(y, steps=16).dropna()\n",
    "\n",
    "y, X = y.align(X, join='inner', axis=0)\n",
    "\n",
    "# Check your answer\n",
    "q_3.check()"
   ]
  },
  {
   "cell_type": "code",
   "execution_count": null,
   "id": "prescription-northern",
   "metadata": {},
   "outputs": [],
   "source": [
    "# Lines below will give you a hint or solution code\n",
    "#q_3.hint()\n",
    "#q_3.solution()"
   ]
  },
  {
   "cell_type": "markdown",
   "id": "alone-dodge",
   "metadata": {},
   "source": [
    "-------------------------------------------------------------------------------\n",
    "\n",
    "In the tutorial, we saw how to forecast with the MultiOutput and Direct strategies on the *Flu Trends* series. Now, you'll apply the DirRec strategy to the multiple time series of *Store Sales*.\n",
    "\n",
    "Make sure you've successfully completed the previous exercise and then run this cell to prepare the data for XGBoost."
   ]
  },
  {
   "cell_type": "code",
   "execution_count": 14,
   "id": "quality-behavior",
   "metadata": {
    "execution": {
     "iopub.execute_input": "2022-08-28T15:59:13.801316Z",
     "iopub.status.busy": "2022-08-28T15:59:13.800915Z",
     "iopub.status.idle": "2022-08-28T15:59:13.851373Z",
     "shell.execute_reply": "2022-08-28T15:59:13.850174Z",
     "shell.execute_reply.started": "2022-08-28T15:59:13.801278Z"
    }
   },
   "outputs": [],
   "source": [
    "le = LabelEncoder()\n",
    "X = (X\n",
    "    .stack('family')  # wide to long\n",
    "    .reset_index('family')  # convert index to column\n",
    "    .assign(family=lambda x: le.fit_transform(x.family))  # label encode\n",
    ")\n",
    "y = y.stack('family')  # wide to long\n",
    "\n",
    "display(y)"
   ]
  },
  {
   "cell_type": "markdown",
   "id": "convertible-ordinary",
   "metadata": {},
   "source": [
    "# 4) Forecast with the DirRec strategy\n",
    "\n",
    "Instatiate a model that applies the DirRec strategy to XGBoost."
   ]
  },
  {
   "cell_type": "code",
   "execution_count": 16,
   "id": "based-reputation",
   "metadata": {
    "execution": {
     "iopub.execute_input": "2022-08-28T16:03:18.523616Z",
     "iopub.status.busy": "2022-08-28T16:03:18.523200Z",
     "iopub.status.idle": "2022-08-28T16:03:18.532347Z",
     "shell.execute_reply": "2022-08-28T16:03:18.531468Z",
     "shell.execute_reply.started": "2022-08-28T16:03:18.523582Z"
    }
   },
   "outputs": [],
   "source": [
    "from sklearn.multioutput import RegressorChain\n",
    "\n",
    "# YOUR CODE HERE\n",
    "model = RegressorChain(XGBRegressor())\n",
    "\n",
    "# Check your answer\n",
    "q_4.check()"
   ]
  },
  {
   "cell_type": "code",
   "execution_count": null,
   "id": "indoor-polymer",
   "metadata": {},
   "outputs": [],
   "source": [
    "# Lines below will give you a hint or solution code\n",
    "#q_4.hint()\n",
    "#q_4.solution()"
   ]
  },
  {
   "cell_type": "markdown",
   "id": "parental-withdrawal",
   "metadata": {},
   "source": [
    "Run this cell if you'd like to train this model."
   ]
  },
  {
   "cell_type": "code",
   "execution_count": 17,
   "id": "hourly-nevada",
   "metadata": {
    "execution": {
     "iopub.execute_input": "2022-08-28T16:03:26.387427Z",
     "iopub.status.busy": "2022-08-28T16:03:26.386975Z",
     "iopub.status.idle": "2022-08-28T16:03:46.667313Z",
     "shell.execute_reply": "2022-08-28T16:03:46.666362Z",
     "shell.execute_reply.started": "2022-08-28T16:03:26.387389Z"
    }
   },
   "outputs": [],
   "source": [
    "model.fit(X, y)\n",
    "\n",
    "y_pred = pd.DataFrame(\n",
    "    model.predict(X),\n",
    "    index=y.index,\n",
    "    columns=y.columns,\n",
    ").clip(0.0)"
   ]
  },
  {
   "cell_type": "markdown",
   "id": "interstate-knowing",
   "metadata": {},
   "source": [
    "And use this code to see a sample of the 16-step predictions this model makes on the training data."
   ]
  },
  {
   "cell_type": "code",
   "execution_count": 18,
   "id": "japanese-court",
   "metadata": {
    "execution": {
     "iopub.execute_input": "2022-08-28T16:03:56.052579Z",
     "iopub.status.busy": "2022-08-28T16:03:56.052192Z",
     "iopub.status.idle": "2022-08-28T16:03:56.541260Z",
     "shell.execute_reply": "2022-08-28T16:03:56.540148Z",
     "shell.execute_reply.started": "2022-08-28T16:03:56.052547Z"
    },
    "lines_to_next_cell": 2
   },
   "outputs": [],
   "source": [
    "FAMILY = 'BEAUTY'\n",
    "START = '2017-04-01'\n",
    "EVERY = 16\n",
    "\n",
    "y_pred_ = y_pred.xs(FAMILY, level='family', axis=0).loc[START:]\n",
    "y_ = family_sales.loc[START:, 'sales'].loc[:, FAMILY]\n",
    "\n",
    "fig, ax = plt.subplots(1, 1, figsize=(11, 4))\n",
    "ax = y_.plot(**plot_params, ax=ax, alpha=0.5)\n",
    "ax = plot_multistep(y_pred_, ax=ax, every=EVERY)\n",
    "_ = ax.legend([FAMILY, FAMILY + ' Forecast'])"
   ]
  },
  {
   "cell_type": "markdown",
   "id": "entertaining-windows",
   "metadata": {},
   "source": [
    "# Next Steps #\n",
    "\n",
    "Congratulations! You've completed Kaggle's *Time Series* course. If you haven't already, join our companion competition: [Store Sales - Time Series Forecasting](https://www.kaggle.com/c/29781) and apply the skills you've learned.\n",
    "\n",
    "For inspiration, check out Kaggle's previous forecasting competitions. Studying winning competition solutions is a great way to upgrade your skills.\n",
    "\n",
    "- [**Corporación Favorita**](https://www.kaggle.com/c/favorita-grocery-sales-forecasting): the competition *Store Sales* is derived from.\n",
    "- [**Rossmann Store Sales**](https://www.kaggle.com/c/rossmann-store-sales)\n",
    "- [**Wikipedia Web Traffic**](https://www.kaggle.com/c/web-traffic-time-series-forecasting/)\n",
    "- [**Walmart Store Sales**](https://www.kaggle.com/c/walmart-recruiting-store-sales-forecasting)\n",
    "- [**Walmart Sales in Stormy Weather**](https://www.kaggle.com/c/walmart-recruiting-sales-in-stormy-weather)\n",
    "- [**M5 Forecasting - Accuracy**](https://www.kaggle.com/c/m5-forecasting-accuracy)\n",
    "\n",
    "# References #\n",
    "\n",
    "Here are some great resources you might like to consult for more on time series and forecasting. They all played a part in shaping this course:\n",
    "\n",
    "- *Learnings from Kaggle's forecasting competitions*, an article by Casper Solheim Bojer and Jens Peder Meldgaard.\n",
    "- *Forecasting: Principles and Practice*, a book by Rob J Hyndmann and George Athanasopoulos.\n",
    "- *Practical Time Series Forecasting with R*, a book by Galit Shmueli and Kenneth C. Lichtendahl Jr.\n",
    "- *Time Series Analysis and Its Applications*, a book by Robert H. Shumway and David S. Stoffer.\n",
    "- *Machine learning strategies for time series forecasting*, an article by Gianluca Bontempi, Souhaib Ben Taieb, and Yann-Aël Le Borgne.\n",
    "- *On the use of cross-validation for time series predictor evaluation*, an article by Christoph Bergmeir and José M. Benítez.\n"
   ]
  },
  {
   "cell_type": "markdown",
   "id": "miniature-reputation",
   "metadata": {},
   "source": [
    "---\n",
    "\n",
    "\n",
    "\n",
    "\n",
    "*Have questions or comments? Visit the [course discussion forum](https://www.kaggle.com/learn/time-series/discussion) to chat with other learners.*"
   ]
  }
 ],
 "metadata": {
  "jupytext": {
   "cell_metadata_filter": "-all",
   "formats": "ipynb,md"
  },
  "kernelspec": {
   "display_name": "Python 3",
   "language": "python",
   "name": "python3"
  },
  "language_info": {
   "codemirror_mode": {
    "name": "ipython",
    "version": 3
   },
   "file_extension": ".py",
   "mimetype": "text/x-python",
   "name": "python",
   "nbconvert_exporter": "python",
   "pygments_lexer": "ipython3",
   "version": "3.8.10"
  }
 },
 "nbformat": 4,
 "nbformat_minor": 5
}
